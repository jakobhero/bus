{
 "cells": [
  {
   "cell_type": "code",
   "execution_count": 21,
   "metadata": {},
   "outputs": [],
   "source": [
    "import requests\n",
    "import pandas as pd"
   ]
  },
  {
   "cell_type": "code",
   "execution_count": 2,
   "metadata": {},
   "outputs": [],
   "source": [
    "url=\"https://api.transitfeeds.com/v1/getLocations\""
   ]
  },
  {
   "cell_type": "code",
   "execution_count": 4,
   "metadata": {},
   "outputs": [],
   "source": [
    "params={\n",
    "    \"key\":\"3abc89a4-1439-467f-9d82-218f2c608ae0\"\n",
    "}"
   ]
  },
  {
   "cell_type": "code",
   "execution_count": 5,
   "metadata": {},
   "outputs": [],
   "source": [
    "response=requests.get(url=url,params=params)\n",
    "transit_cities=response.json()"
   ]
  },
  {
   "cell_type": "code",
   "execution_count": 9,
   "metadata": {},
   "outputs": [
    {
     "name": "stdout",
     "output_type": "stream",
     "text": [
      "{'id': 579, 'pid': 578, 't': 'Dublin, Ireland', 'n': 'Dublin', 'lat': 53.349805, 'lng': -6.26031}\n"
     ]
    }
   ],
   "source": [
    "for city in transit_cities[\"results\"][\"locations\"]:\n",
    "    if city[\"t\"]==\"Dublin, Ireland\":\n",
    "        print(city)\n",
    "        break"
   ]
  },
  {
   "cell_type": "code",
   "execution_count": 14,
   "metadata": {},
   "outputs": [],
   "source": [
    "url=\"https://api.transitfeeds.com/v1/getFeeds\"\n",
    "params={\n",
    "    \"key\":\"3abc89a4-1439-467f-9d82-218f2c608ae0\",\n",
    "    \"location\":city[\"id\"],\n",
    "    \"descendants\":1,\n",
    "    \"page\":1,\n",
    "    \"limit\":10\n",
    "}"
   ]
  },
  {
   "cell_type": "code",
   "execution_count": 15,
   "metadata": {},
   "outputs": [],
   "source": [
    "response=requests.get(url=url,params=params)"
   ]
  },
  {
   "cell_type": "code",
   "execution_count": 16,
   "metadata": {},
   "outputs": [],
   "source": [
    "dublin_feeds=response.json()"
   ]
  },
  {
   "cell_type": "code",
   "execution_count": 17,
   "metadata": {},
   "outputs": [
    {
     "data": {
      "text/plain": [
       "{'status': 'OK',\n",
       " 'ts': 1596472528,\n",
       " 'results': {'total': 3,\n",
       "  'limit': 10,\n",
       "  'page': 1,\n",
       "  'numPages': 1,\n",
       "  'feeds': [{'id': 'transport-for-ireland/1045',\n",
       "    'ty': 'gtfs',\n",
       "    't': 'LUAS GTFS',\n",
       "    'l': {'id': 579,\n",
       "     'pid': 578,\n",
       "     't': 'Dublin, Ireland',\n",
       "     'n': 'Dublin',\n",
       "     'lat': 53.349805,\n",
       "     'lng': -6.26031},\n",
       "    'u': {'i': 'https://www.transportforireland.ie/transitData/PT_Data.html',\n",
       "     'd': 'https://www.transportforireland.ie/transitData/google_transit_luas.zip'},\n",
       "    'latest': {'ts': 1576093166}},\n",
       "   {'id': 'transport-for-ireland/1044',\n",
       "    'ty': 'gtfs',\n",
       "    't': 'Go Ahead Ireland GTFS',\n",
       "    'l': {'id': 579,\n",
       "     'pid': 578,\n",
       "     't': 'Dublin, Ireland',\n",
       "     'n': 'Dublin',\n",
       "     'lat': 53.349805,\n",
       "     'lng': -6.26031},\n",
       "    'u': {'i': 'https://data.gov.ie/pages/opendatalicence'},\n",
       "    'latest': {'ts': 1591809086}},\n",
       "   {'id': 'transport-for-ireland/782',\n",
       "    'ty': 'gtfs',\n",
       "    't': 'Dublin Bus GTFS',\n",
       "    'l': {'id': 579,\n",
       "     'pid': 578,\n",
       "     't': 'Dublin, Ireland',\n",
       "     'n': 'Dublin',\n",
       "     'lat': 53.349805,\n",
       "     'lng': -6.26031},\n",
       "    'u': {'d': 'http://www.transportforireland.ie/transitData/google_transit_dublinbus.zip'},\n",
       "    'latest': {'ts': 1596107610}}]}}"
      ]
     },
     "execution_count": 17,
     "metadata": {},
     "output_type": "execute_result"
    }
   ],
   "source": [
    "dublin_feeds"
   ]
  },
  {
   "cell_type": "code",
   "execution_count": 20,
   "metadata": {},
   "outputs": [
    {
     "name": "stdout",
     "output_type": "stream",
     "text": [
      "{'id': 'transport-for-ireland/782', 'ty': 'gtfs', 't': 'Dublin Bus GTFS', 'l': {'id': 579, 'pid': 578, 't': 'Dublin, Ireland', 'n': 'Dublin', 'lat': 53.349805, 'lng': -6.26031}, 'u': {'d': 'http://www.transportforireland.ie/transitData/google_transit_dublinbus.zip'}, 'latest': {'ts': 1596107610}}\n"
     ]
    }
   ],
   "source": [
    "for feed in dublin_feeds[\"results\"][\"feeds\"]:\n",
    "    if \"Dublin Bus\" in feed[\"t\"]:\n",
    "        print(feed)\n",
    "        break"
   ]
  },
  {
   "cell_type": "code",
   "execution_count": 22,
   "metadata": {},
   "outputs": [],
   "source": [
    "stops_df=pd.read_csv(\"gtfs/stops.txt\")"
   ]
  },
  {
   "cell_type": "code",
   "execution_count": 23,
   "metadata": {},
   "outputs": [
    {
     "data": {
      "text/html": [
       "<div>\n",
       "<style scoped>\n",
       "    .dataframe tbody tr th:only-of-type {\n",
       "        vertical-align: middle;\n",
       "    }\n",
       "\n",
       "    .dataframe tbody tr th {\n",
       "        vertical-align: top;\n",
       "    }\n",
       "\n",
       "    .dataframe thead th {\n",
       "        text-align: right;\n",
       "    }\n",
       "</style>\n",
       "<table border=\"1\" class=\"dataframe\">\n",
       "  <thead>\n",
       "    <tr style=\"text-align: right;\">\n",
       "      <th></th>\n",
       "      <th>stop_id</th>\n",
       "      <th>stop_name</th>\n",
       "      <th>stop_lat</th>\n",
       "      <th>stop_lon</th>\n",
       "    </tr>\n",
       "  </thead>\n",
       "  <tbody>\n",
       "    <tr>\n",
       "      <th>0</th>\n",
       "      <td>8220DB000002</td>\n",
       "      <td>Parnell Square West, stop 2</td>\n",
       "      <td>53.352244</td>\n",
       "      <td>-6.263723</td>\n",
       "    </tr>\n",
       "    <tr>\n",
       "      <th>1</th>\n",
       "      <td>8220DB000003</td>\n",
       "      <td>Parnell Square West, stop 3</td>\n",
       "      <td>53.352309</td>\n",
       "      <td>-6.263811</td>\n",
       "    </tr>\n",
       "    <tr>\n",
       "      <th>2</th>\n",
       "      <td>8220DB000004</td>\n",
       "      <td>Parnell Square West, stop 4</td>\n",
       "      <td>53.352575</td>\n",
       "      <td>-6.264175</td>\n",
       "    </tr>\n",
       "    <tr>\n",
       "      <th>3</th>\n",
       "      <td>8220DB000006</td>\n",
       "      <td>Parnell Square West, stop 6</td>\n",
       "      <td>53.352749</td>\n",
       "      <td>-6.264454</td>\n",
       "    </tr>\n",
       "    <tr>\n",
       "      <th>4</th>\n",
       "      <td>8220DB000007</td>\n",
       "      <td>Parnell Square West, stop 7</td>\n",
       "      <td>53.352841</td>\n",
       "      <td>-6.264570</td>\n",
       "    </tr>\n",
       "  </tbody>\n",
       "</table>\n",
       "</div>"
      ],
      "text/plain": [
       "        stop_id                    stop_name   stop_lat  stop_lon\n",
       "0  8220DB000002  Parnell Square West, stop 2  53.352244 -6.263723\n",
       "1  8220DB000003  Parnell Square West, stop 3  53.352309 -6.263811\n",
       "2  8220DB000004  Parnell Square West, stop 4  53.352575 -6.264175\n",
       "3  8220DB000006  Parnell Square West, stop 6  53.352749 -6.264454\n",
       "4  8220DB000007  Parnell Square West, stop 7  53.352841 -6.264570"
      ]
     },
     "execution_count": 23,
     "metadata": {},
     "output_type": "execute_result"
    }
   ],
   "source": [
    "stops_df.head()"
   ]
  },
  {
   "cell_type": "code",
   "execution_count": 24,
   "metadata": {},
   "outputs": [],
   "source": [
    "times_df=pd.read_csv(\"gtfs/stop_times.txt\")"
   ]
  },
  {
   "cell_type": "code",
   "execution_count": 25,
   "metadata": {},
   "outputs": [
    {
     "data": {
      "text/html": [
       "<div>\n",
       "<style scoped>\n",
       "    .dataframe tbody tr th:only-of-type {\n",
       "        vertical-align: middle;\n",
       "    }\n",
       "\n",
       "    .dataframe tbody tr th {\n",
       "        vertical-align: top;\n",
       "    }\n",
       "\n",
       "    .dataframe thead th {\n",
       "        text-align: right;\n",
       "    }\n",
       "</style>\n",
       "<table border=\"1\" class=\"dataframe\">\n",
       "  <thead>\n",
       "    <tr style=\"text-align: right;\">\n",
       "      <th></th>\n",
       "      <th>trip_id</th>\n",
       "      <th>arrival_time</th>\n",
       "      <th>departure_time</th>\n",
       "      <th>stop_id</th>\n",
       "      <th>stop_sequence</th>\n",
       "      <th>stop_headsign</th>\n",
       "      <th>pickup_type</th>\n",
       "      <th>drop_off_type</th>\n",
       "      <th>shape_dist_traveled</th>\n",
       "    </tr>\n",
       "  </thead>\n",
       "  <tbody>\n",
       "    <tr>\n",
       "      <th>0</th>\n",
       "      <td>1.1.60-39A-b12-1.205.I</td>\n",
       "      <td>07:55:00</td>\n",
       "      <td>07:55:00</td>\n",
       "      <td>8240DB007158</td>\n",
       "      <td>1</td>\n",
       "      <td>UCD</td>\n",
       "      <td>0</td>\n",
       "      <td>0</td>\n",
       "      <td>0.00</td>\n",
       "    </tr>\n",
       "    <tr>\n",
       "      <th>1</th>\n",
       "      <td>1.1.60-39A-b12-1.205.I</td>\n",
       "      <td>07:55:43</td>\n",
       "      <td>07:55:43</td>\n",
       "      <td>8240DB007048</td>\n",
       "      <td>2</td>\n",
       "      <td>UCD</td>\n",
       "      <td>0</td>\n",
       "      <td>0</td>\n",
       "      <td>750698.41</td>\n",
       "    </tr>\n",
       "    <tr>\n",
       "      <th>2</th>\n",
       "      <td>1.1.60-39A-b12-1.205.I</td>\n",
       "      <td>07:56:27</td>\n",
       "      <td>07:56:27</td>\n",
       "      <td>8240DB007699</td>\n",
       "      <td>3</td>\n",
       "      <td>UCD</td>\n",
       "      <td>0</td>\n",
       "      <td>0</td>\n",
       "      <td>1501239.38</td>\n",
       "    </tr>\n",
       "    <tr>\n",
       "      <th>3</th>\n",
       "      <td>1.1.60-39A-b12-1.205.I</td>\n",
       "      <td>07:56:54</td>\n",
       "      <td>07:56:54</td>\n",
       "      <td>8240DB007159</td>\n",
       "      <td>4</td>\n",
       "      <td>UCD</td>\n",
       "      <td>0</td>\n",
       "      <td>0</td>\n",
       "      <td>2251660.48</td>\n",
       "    </tr>\n",
       "    <tr>\n",
       "      <th>4</th>\n",
       "      <td>1.1.60-39A-b12-1.205.I</td>\n",
       "      <td>07:57:13</td>\n",
       "      <td>07:57:13</td>\n",
       "      <td>8240DB007388</td>\n",
       "      <td>5</td>\n",
       "      <td>UCD</td>\n",
       "      <td>0</td>\n",
       "      <td>0</td>\n",
       "      <td>3001993.17</td>\n",
       "    </tr>\n",
       "  </tbody>\n",
       "</table>\n",
       "</div>"
      ],
      "text/plain": [
       "                  trip_id arrival_time departure_time       stop_id  \\\n",
       "0  1.1.60-39A-b12-1.205.I     07:55:00       07:55:00  8240DB007158   \n",
       "1  1.1.60-39A-b12-1.205.I     07:55:43       07:55:43  8240DB007048   \n",
       "2  1.1.60-39A-b12-1.205.I     07:56:27       07:56:27  8240DB007699   \n",
       "3  1.1.60-39A-b12-1.205.I     07:56:54       07:56:54  8240DB007159   \n",
       "4  1.1.60-39A-b12-1.205.I     07:57:13       07:57:13  8240DB007388   \n",
       "\n",
       "   stop_sequence stop_headsign  pickup_type  drop_off_type  \\\n",
       "0              1           UCD            0              0   \n",
       "1              2           UCD            0              0   \n",
       "2              3           UCD            0              0   \n",
       "3              4           UCD            0              0   \n",
       "4              5           UCD            0              0   \n",
       "\n",
       "   shape_dist_traveled  \n",
       "0                 0.00  \n",
       "1            750698.41  \n",
       "2           1501239.38  \n",
       "3           2251660.48  \n",
       "4           3001993.17  "
      ]
     },
     "execution_count": 25,
     "metadata": {},
     "output_type": "execute_result"
    }
   ],
   "source": [
    "times_df.head()"
   ]
  },
  {
   "cell_type": "code",
   "execution_count": 26,
   "metadata": {},
   "outputs": [
    {
     "data": {
      "text/plain": [
       "(1573337, 9)"
      ]
     },
     "execution_count": 26,
     "metadata": {},
     "output_type": "execute_result"
    }
   ],
   "source": [
    "times_df.shape"
   ]
  },
  {
   "cell_type": "code",
   "execution_count": 27,
   "metadata": {},
   "outputs": [],
   "source": [
    "trips_df=pd.read_csv(\"gtfs/trips.txt\")"
   ]
  },
  {
   "cell_type": "code",
   "execution_count": 29,
   "metadata": {},
   "outputs": [
    {
     "data": {
      "text/html": [
       "<div>\n",
       "<style scoped>\n",
       "    .dataframe tbody tr th:only-of-type {\n",
       "        vertical-align: middle;\n",
       "    }\n",
       "\n",
       "    .dataframe tbody tr th {\n",
       "        vertical-align: top;\n",
       "    }\n",
       "\n",
       "    .dataframe thead th {\n",
       "        text-align: right;\n",
       "    }\n",
       "</style>\n",
       "<table border=\"1\" class=\"dataframe\">\n",
       "  <thead>\n",
       "    <tr style=\"text-align: right;\">\n",
       "      <th></th>\n",
       "      <th>route_id</th>\n",
       "      <th>service_id</th>\n",
       "      <th>trip_id</th>\n",
       "      <th>shape_id</th>\n",
       "      <th>trip_headsign</th>\n",
       "      <th>direction_id</th>\n",
       "    </tr>\n",
       "  </thead>\n",
       "  <tbody>\n",
       "    <tr>\n",
       "      <th>0</th>\n",
       "      <td>60-11-b12-1</td>\n",
       "      <td>1</td>\n",
       "      <td>3271.1.60-11-b12-1.16.I</td>\n",
       "      <td>60-11-b12-1.16.I</td>\n",
       "      <td>Blackthorn Road - Saint Pappin's Road</td>\n",
       "      <td>1</td>\n",
       "    </tr>\n",
       "    <tr>\n",
       "      <th>1</th>\n",
       "      <td>60-11-b12-1</td>\n",
       "      <td>1</td>\n",
       "      <td>3272.1.60-11-b12-1.15.O</td>\n",
       "      <td>60-11-b12-1.15.O</td>\n",
       "      <td>Saint Pappin's Road - Blackthorn Drive (Blackt...</td>\n",
       "      <td>0</td>\n",
       "    </tr>\n",
       "    <tr>\n",
       "      <th>2</th>\n",
       "      <td>60-11-b12-1</td>\n",
       "      <td>1</td>\n",
       "      <td>3273.1.60-11-b12-1.16.I</td>\n",
       "      <td>60-11-b12-1.16.I</td>\n",
       "      <td>Blackthorn Road - Saint Pappin's Road</td>\n",
       "      <td>1</td>\n",
       "    </tr>\n",
       "    <tr>\n",
       "      <th>3</th>\n",
       "      <td>60-11-b12-1</td>\n",
       "      <td>1</td>\n",
       "      <td>3274.1.60-11-b12-1.15.O</td>\n",
       "      <td>60-11-b12-1.15.O</td>\n",
       "      <td>Saint Pappin's Road - Blackthorn Drive (Blackt...</td>\n",
       "      <td>0</td>\n",
       "    </tr>\n",
       "    <tr>\n",
       "      <th>4</th>\n",
       "      <td>60-11-b12-1</td>\n",
       "      <td>1</td>\n",
       "      <td>3275.1.60-11-b12-1.16.I</td>\n",
       "      <td>60-11-b12-1.16.I</td>\n",
       "      <td>Blackthorn Road - Saint Pappin's Road</td>\n",
       "      <td>1</td>\n",
       "    </tr>\n",
       "  </tbody>\n",
       "</table>\n",
       "</div>"
      ],
      "text/plain": [
       "      route_id service_id                  trip_id          shape_id  \\\n",
       "0  60-11-b12-1          1  3271.1.60-11-b12-1.16.I  60-11-b12-1.16.I   \n",
       "1  60-11-b12-1          1  3272.1.60-11-b12-1.15.O  60-11-b12-1.15.O   \n",
       "2  60-11-b12-1          1  3273.1.60-11-b12-1.16.I  60-11-b12-1.16.I   \n",
       "3  60-11-b12-1          1  3274.1.60-11-b12-1.15.O  60-11-b12-1.15.O   \n",
       "4  60-11-b12-1          1  3275.1.60-11-b12-1.16.I  60-11-b12-1.16.I   \n",
       "\n",
       "                                       trip_headsign  direction_id  \n",
       "0              Blackthorn Road - Saint Pappin's Road             1  \n",
       "1  Saint Pappin's Road - Blackthorn Drive (Blackt...             0  \n",
       "2              Blackthorn Road - Saint Pappin's Road             1  \n",
       "3  Saint Pappin's Road - Blackthorn Drive (Blackt...             0  \n",
       "4              Blackthorn Road - Saint Pappin's Road             1  "
      ]
     },
     "execution_count": 29,
     "metadata": {},
     "output_type": "execute_result"
    }
   ],
   "source": [
    "trips_df.head()"
   ]
  },
  {
   "cell_type": "code",
   "execution_count": 31,
   "metadata": {},
   "outputs": [
    {
     "data": {
      "text/plain": [
       "(27529, 6)"
      ]
     },
     "execution_count": 31,
     "metadata": {},
     "output_type": "execute_result"
    }
   ],
   "source": [
    "trips_df.shape"
   ]
  },
  {
   "cell_type": "code",
   "execution_count": 33,
   "metadata": {},
   "outputs": [],
   "source": [
    "routes_df=pd.read_csv(\"gtfs/routes.txt\")"
   ]
  },
  {
   "cell_type": "code",
   "execution_count": 35,
   "metadata": {},
   "outputs": [
    {
     "data": {
      "text/html": [
       "<div>\n",
       "<style scoped>\n",
       "    .dataframe tbody tr th:only-of-type {\n",
       "        vertical-align: middle;\n",
       "    }\n",
       "\n",
       "    .dataframe tbody tr th {\n",
       "        vertical-align: top;\n",
       "    }\n",
       "\n",
       "    .dataframe thead th {\n",
       "        text-align: right;\n",
       "    }\n",
       "</style>\n",
       "<table border=\"1\" class=\"dataframe\">\n",
       "  <thead>\n",
       "    <tr style=\"text-align: right;\">\n",
       "      <th></th>\n",
       "      <th>route_id</th>\n",
       "      <th>agency_id</th>\n",
       "      <th>route_short_name</th>\n",
       "      <th>route_long_name</th>\n",
       "      <th>route_type</th>\n",
       "    </tr>\n",
       "  </thead>\n",
       "  <tbody>\n",
       "    <tr>\n",
       "      <th>0</th>\n",
       "      <td>60-1-b12-1</td>\n",
       "      <td>978</td>\n",
       "      <td>1</td>\n",
       "      <td>NaN</td>\n",
       "      <td>3</td>\n",
       "    </tr>\n",
       "    <tr>\n",
       "      <th>1</th>\n",
       "      <td>60-102-b12-1</td>\n",
       "      <td>978</td>\n",
       "      <td>102</td>\n",
       "      <td>NaN</td>\n",
       "      <td>3</td>\n",
       "    </tr>\n",
       "    <tr>\n",
       "      <th>2</th>\n",
       "      <td>60-104-b12-1</td>\n",
       "      <td>978</td>\n",
       "      <td>104</td>\n",
       "      <td>NaN</td>\n",
       "      <td>3</td>\n",
       "    </tr>\n",
       "    <tr>\n",
       "      <th>3</th>\n",
       "      <td>60-11-b12-1</td>\n",
       "      <td>978</td>\n",
       "      <td>11</td>\n",
       "      <td>NaN</td>\n",
       "      <td>3</td>\n",
       "    </tr>\n",
       "    <tr>\n",
       "      <th>4</th>\n",
       "      <td>60-111-b12-1</td>\n",
       "      <td>978</td>\n",
       "      <td>111</td>\n",
       "      <td>NaN</td>\n",
       "      <td>3</td>\n",
       "    </tr>\n",
       "  </tbody>\n",
       "</table>\n",
       "</div>"
      ],
      "text/plain": [
       "       route_id  agency_id route_short_name  route_long_name  route_type\n",
       "0    60-1-b12-1        978                1              NaN           3\n",
       "1  60-102-b12-1        978              102              NaN           3\n",
       "2  60-104-b12-1        978              104              NaN           3\n",
       "3   60-11-b12-1        978               11              NaN           3\n",
       "4  60-111-b12-1        978              111              NaN           3"
      ]
     },
     "execution_count": 35,
     "metadata": {},
     "output_type": "execute_result"
    }
   ],
   "source": [
    "routes_df.head()"
   ]
  },
  {
   "cell_type": "code",
   "execution_count": 37,
   "metadata": {},
   "outputs": [
    {
     "data": {
      "text/plain": [
       "(276, 5)"
      ]
     },
     "execution_count": 37,
     "metadata": {},
     "output_type": "execute_result"
    }
   ],
   "source": [
    "routes_df.shape"
   ]
  },
  {
   "cell_type": "code",
   "execution_count": 38,
   "metadata": {},
   "outputs": [
    {
     "data": {
      "text/plain": [
       "array([978], dtype=int64)"
      ]
     },
     "execution_count": 38,
     "metadata": {},
     "output_type": "execute_result"
    }
   ],
   "source": [
    "routes_df.agency_id.unique()"
   ]
  },
  {
   "cell_type": "code",
   "execution_count": 40,
   "metadata": {},
   "outputs": [
    {
     "data": {
      "text/plain": [
       "276"
      ]
     },
     "execution_count": 40,
     "metadata": {},
     "output_type": "execute_result"
    }
   ],
   "source": [
    "routes_df.route_long_name.isna().sum()"
   ]
  },
  {
   "cell_type": "code",
   "execution_count": 42,
   "metadata": {},
   "outputs": [
    {
     "data": {
      "text/plain": [
       "0"
      ]
     },
     "execution_count": 42,
     "metadata": {},
     "output_type": "execute_result"
    }
   ],
   "source": [
    "routes_df.route_short_name.isna().sum()"
   ]
  },
  {
   "cell_type": "code",
   "execution_count": 43,
   "metadata": {},
   "outputs": [
    {
     "data": {
      "text/plain": [
       "array([3], dtype=int64)"
      ]
     },
     "execution_count": 43,
     "metadata": {},
     "output_type": "execute_result"
    }
   ],
   "source": [
    "routes_df.route_type.unique()"
   ]
  },
  {
   "cell_type": "code",
   "execution_count": 45,
   "metadata": {},
   "outputs": [],
   "source": [
    "routes_df=routes_df.drop([\"agency_id\",\"route_type\",\"route_long_name\"],axis=1)"
   ]
  },
  {
   "cell_type": "code",
   "execution_count": 47,
   "metadata": {},
   "outputs": [
    {
     "data": {
      "text/html": [
       "<div>\n",
       "<style scoped>\n",
       "    .dataframe tbody tr th:only-of-type {\n",
       "        vertical-align: middle;\n",
       "    }\n",
       "\n",
       "    .dataframe tbody tr th {\n",
       "        vertical-align: top;\n",
       "    }\n",
       "\n",
       "    .dataframe thead th {\n",
       "        text-align: right;\n",
       "    }\n",
       "</style>\n",
       "<table border=\"1\" class=\"dataframe\">\n",
       "  <thead>\n",
       "    <tr style=\"text-align: right;\">\n",
       "      <th></th>\n",
       "      <th>route_id</th>\n",
       "      <th>route_short_name</th>\n",
       "      <th>route_long_name</th>\n",
       "    </tr>\n",
       "  </thead>\n",
       "  <tbody>\n",
       "    <tr>\n",
       "      <th>0</th>\n",
       "      <td>60-1-b12-1</td>\n",
       "      <td>1</td>\n",
       "      <td>NaN</td>\n",
       "    </tr>\n",
       "    <tr>\n",
       "      <th>1</th>\n",
       "      <td>60-102-b12-1</td>\n",
       "      <td>102</td>\n",
       "      <td>NaN</td>\n",
       "    </tr>\n",
       "    <tr>\n",
       "      <th>2</th>\n",
       "      <td>60-104-b12-1</td>\n",
       "      <td>104</td>\n",
       "      <td>NaN</td>\n",
       "    </tr>\n",
       "    <tr>\n",
       "      <th>3</th>\n",
       "      <td>60-11-b12-1</td>\n",
       "      <td>11</td>\n",
       "      <td>NaN</td>\n",
       "    </tr>\n",
       "    <tr>\n",
       "      <th>4</th>\n",
       "      <td>60-111-b12-1</td>\n",
       "      <td>111</td>\n",
       "      <td>NaN</td>\n",
       "    </tr>\n",
       "  </tbody>\n",
       "</table>\n",
       "</div>"
      ],
      "text/plain": [
       "       route_id route_short_name  route_long_name\n",
       "0    60-1-b12-1                1              NaN\n",
       "1  60-102-b12-1              102              NaN\n",
       "2  60-104-b12-1              104              NaN\n",
       "3   60-11-b12-1               11              NaN\n",
       "4  60-111-b12-1              111              NaN"
      ]
     },
     "execution_count": 47,
     "metadata": {},
     "output_type": "execute_result"
    }
   ],
   "source": [
    "routes_df.head()"
   ]
  },
  {
   "cell_type": "code",
   "execution_count": null,
   "metadata": {},
   "outputs": [],
   "source": []
  }
 ],
 "metadata": {
  "kernelspec": {
   "display_name": "Python 3",
   "language": "python",
   "name": "python3"
  },
  "language_info": {
   "codemirror_mode": {
    "name": "ipython",
    "version": 3
   },
   "file_extension": ".py",
   "mimetype": "text/x-python",
   "name": "python",
   "nbconvert_exporter": "python",
   "pygments_lexer": "ipython3",
   "version": "3.8.3"
  }
 },
 "nbformat": 4,
 "nbformat_minor": 4
}
