{
 "cells": [
  {
   "cell_type": "code",
   "execution_count": 3,
   "metadata": {},
   "outputs": [],
   "source": [
    "import pandas as pd\n",
    "from sqlalchemy import create_engine\n",
    "from datetime import datetime\n",
    "import numpy as np\n",
    "\n",
    "from sklearn.neural_network import MLPRegressor\n",
    "from sklearn.model_selection import train_test_split\n",
    "from sklearn.linear_model import LinearRegression\n",
    "from config import config"
   ]
  },
  {
   "cell_type": "code",
   "execution_count": 4,
   "metadata": {},
   "outputs": [],
   "source": [
    "config=config()\n",
    "engine=create_engine(\"postgresql://\"+config[\"user\"]+\":\"+config[\"password\"]+\"@\"+config[\"host\"]+\"/\"+config[\"database\"])"
   ]
  },
  {
   "cell_type": "code",
   "execution_count": 7,
   "metadata": {},
   "outputs": [],
   "source": [
    "sql=(\"SELECT lt.daystamp, lt.trip_id, lt.stoppoint_id,lt.departure_time_p,\"\n",
    "    \"lt.departure_time_a,trips.departure_time_p,trips.departure_time_a,\"\n",
    "     \"line_id,route_id,weather_main,temp \"\n",
    "     \"FROM leavetimes AS lt, trips, weather \"\n",
    "     \"WHERE trips.line_id='46A' AND trips.direction=1 AND trips.suppressed=0 \"\n",
    "     \"AND lt.daystamp = trips.daystamp AND lt.trip_id = trips.trip_id AND lt.suppressed=0\"\n",
    "     \"AND lt.weather_id = weather.daytime\")"
   ]
  },
  {
   "cell_type": "code",
   "execution_count": 8,
   "metadata": {},
   "outputs": [],
   "source": [
    "df = pd.read_sql(sql,engine)"
   ]
  },
  {
   "cell_type": "code",
   "execution_count": 9,
   "metadata": {},
   "outputs": [
    {
     "data": {
      "text/plain": [
       "(2145060, 11)"
      ]
     },
     "execution_count": 9,
     "metadata": {},
     "output_type": "execute_result"
    }
   ],
   "source": [
    "df.shape"
   ]
  },
  {
   "cell_type": "code",
   "execution_count": 10,
   "metadata": {},
   "outputs": [
    {
     "data": {
      "text/html": [
       "<div>\n",
       "<style scoped>\n",
       "    .dataframe tbody tr th:only-of-type {\n",
       "        vertical-align: middle;\n",
       "    }\n",
       "\n",
       "    .dataframe tbody tr th {\n",
       "        vertical-align: top;\n",
       "    }\n",
       "\n",
       "    .dataframe thead th {\n",
       "        text-align: right;\n",
       "    }\n",
       "</style>\n",
       "<table border=\"1\" class=\"dataframe\">\n",
       "  <thead>\n",
       "    <tr style=\"text-align: right;\">\n",
       "      <th></th>\n",
       "      <th>daystamp</th>\n",
       "      <th>trip_id</th>\n",
       "      <th>stoppoint_id</th>\n",
       "      <th>departure_time_p</th>\n",
       "      <th>departure_time_a</th>\n",
       "      <th>departure_time_p</th>\n",
       "      <th>departure_time_a</th>\n",
       "      <th>line_id</th>\n",
       "      <th>route_id</th>\n",
       "      <th>weather_main</th>\n",
       "      <th>temp</th>\n",
       "    </tr>\n",
       "  </thead>\n",
       "  <tbody>\n",
       "    <tr>\n",
       "      <th>0</th>\n",
       "      <td>1517961600</td>\n",
       "      <td>6253924</td>\n",
       "      <td>807</td>\n",
       "      <td>60960</td>\n",
       "      <td>60926</td>\n",
       "      <td>60960</td>\n",
       "      <td>60926.0</td>\n",
       "      <td>46A</td>\n",
       "      <td>74</td>\n",
       "      <td>Rain</td>\n",
       "      <td>3.08</td>\n",
       "    </tr>\n",
       "    <tr>\n",
       "      <th>1</th>\n",
       "      <td>1517961600</td>\n",
       "      <td>6253924</td>\n",
       "      <td>808</td>\n",
       "      <td>61053</td>\n",
       "      <td>61036</td>\n",
       "      <td>60960</td>\n",
       "      <td>60926.0</td>\n",
       "      <td>46A</td>\n",
       "      <td>74</td>\n",
       "      <td>Rain</td>\n",
       "      <td>3.08</td>\n",
       "    </tr>\n",
       "    <tr>\n",
       "      <th>2</th>\n",
       "      <td>1517961600</td>\n",
       "      <td>6253924</td>\n",
       "      <td>809</td>\n",
       "      <td>61107</td>\n",
       "      <td>61114</td>\n",
       "      <td>60960</td>\n",
       "      <td>60926.0</td>\n",
       "      <td>46A</td>\n",
       "      <td>74</td>\n",
       "      <td>Rain</td>\n",
       "      <td>3.08</td>\n",
       "    </tr>\n",
       "    <tr>\n",
       "      <th>3</th>\n",
       "      <td>1517961600</td>\n",
       "      <td>6253924</td>\n",
       "      <td>810</td>\n",
       "      <td>61193</td>\n",
       "      <td>61215</td>\n",
       "      <td>60960</td>\n",
       "      <td>60926.0</td>\n",
       "      <td>46A</td>\n",
       "      <td>74</td>\n",
       "      <td>Rain</td>\n",
       "      <td>3.08</td>\n",
       "    </tr>\n",
       "    <tr>\n",
       "      <th>4</th>\n",
       "      <td>1517961600</td>\n",
       "      <td>6253924</td>\n",
       "      <td>811</td>\n",
       "      <td>61246</td>\n",
       "      <td>61254</td>\n",
       "      <td>60960</td>\n",
       "      <td>60926.0</td>\n",
       "      <td>46A</td>\n",
       "      <td>74</td>\n",
       "      <td>Rain</td>\n",
       "      <td>3.08</td>\n",
       "    </tr>\n",
       "  </tbody>\n",
       "</table>\n",
       "</div>"
      ],
      "text/plain": [
       "     daystamp  trip_id  stoppoint_id  departure_time_p  departure_time_a  \\\n",
       "0  1517961600  6253924           807             60960             60926   \n",
       "1  1517961600  6253924           808             61053             61036   \n",
       "2  1517961600  6253924           809             61107             61114   \n",
       "3  1517961600  6253924           810             61193             61215   \n",
       "4  1517961600  6253924           811             61246             61254   \n",
       "\n",
       "   departure_time_p  departure_time_a line_id  route_id weather_main  temp  \n",
       "0             60960           60926.0     46A        74         Rain  3.08  \n",
       "1             60960           60926.0     46A        74         Rain  3.08  \n",
       "2             60960           60926.0     46A        74         Rain  3.08  \n",
       "3             60960           60926.0     46A        74         Rain  3.08  \n",
       "4             60960           60926.0     46A        74         Rain  3.08  "
      ]
     },
     "execution_count": 10,
     "metadata": {},
     "output_type": "execute_result"
    }
   ],
   "source": [
    "df.head()"
   ]
  },
  {
   "cell_type": "code",
   "execution_count": 11,
   "metadata": {},
   "outputs": [],
   "source": [
    "df.columns=[\"daystamp\",\"trip_id\",\"stop_id\",\"dep_p\",\"dep_a\",\"start_p\",\"start_a\",\"line_id\",\"route_id\",\"weather\",\"temp\"]"
   ]
  },
  {
   "cell_type": "code",
   "execution_count": 12,
   "metadata": {},
   "outputs": [
    {
     "data": {
      "text/html": [
       "<div>\n",
       "<style scoped>\n",
       "    .dataframe tbody tr th:only-of-type {\n",
       "        vertical-align: middle;\n",
       "    }\n",
       "\n",
       "    .dataframe tbody tr th {\n",
       "        vertical-align: top;\n",
       "    }\n",
       "\n",
       "    .dataframe thead th {\n",
       "        text-align: right;\n",
       "    }\n",
       "</style>\n",
       "<table border=\"1\" class=\"dataframe\">\n",
       "  <thead>\n",
       "    <tr style=\"text-align: right;\">\n",
       "      <th></th>\n",
       "      <th>daystamp</th>\n",
       "      <th>trip_id</th>\n",
       "      <th>stop_id</th>\n",
       "      <th>dep_p</th>\n",
       "      <th>dep_a</th>\n",
       "      <th>start_p</th>\n",
       "      <th>start_a</th>\n",
       "      <th>line_id</th>\n",
       "      <th>route_id</th>\n",
       "      <th>weather</th>\n",
       "      <th>temp</th>\n",
       "    </tr>\n",
       "  </thead>\n",
       "  <tbody>\n",
       "    <tr>\n",
       "      <th>0</th>\n",
       "      <td>1517961600</td>\n",
       "      <td>6253924</td>\n",
       "      <td>807</td>\n",
       "      <td>60960</td>\n",
       "      <td>60926</td>\n",
       "      <td>60960</td>\n",
       "      <td>60926.0</td>\n",
       "      <td>46A</td>\n",
       "      <td>74</td>\n",
       "      <td>Rain</td>\n",
       "      <td>3.08</td>\n",
       "    </tr>\n",
       "    <tr>\n",
       "      <th>1</th>\n",
       "      <td>1517961600</td>\n",
       "      <td>6253924</td>\n",
       "      <td>808</td>\n",
       "      <td>61053</td>\n",
       "      <td>61036</td>\n",
       "      <td>60960</td>\n",
       "      <td>60926.0</td>\n",
       "      <td>46A</td>\n",
       "      <td>74</td>\n",
       "      <td>Rain</td>\n",
       "      <td>3.08</td>\n",
       "    </tr>\n",
       "    <tr>\n",
       "      <th>2</th>\n",
       "      <td>1517961600</td>\n",
       "      <td>6253924</td>\n",
       "      <td>809</td>\n",
       "      <td>61107</td>\n",
       "      <td>61114</td>\n",
       "      <td>60960</td>\n",
       "      <td>60926.0</td>\n",
       "      <td>46A</td>\n",
       "      <td>74</td>\n",
       "      <td>Rain</td>\n",
       "      <td>3.08</td>\n",
       "    </tr>\n",
       "    <tr>\n",
       "      <th>3</th>\n",
       "      <td>1517961600</td>\n",
       "      <td>6253924</td>\n",
       "      <td>810</td>\n",
       "      <td>61193</td>\n",
       "      <td>61215</td>\n",
       "      <td>60960</td>\n",
       "      <td>60926.0</td>\n",
       "      <td>46A</td>\n",
       "      <td>74</td>\n",
       "      <td>Rain</td>\n",
       "      <td>3.08</td>\n",
       "    </tr>\n",
       "    <tr>\n",
       "      <th>4</th>\n",
       "      <td>1517961600</td>\n",
       "      <td>6253924</td>\n",
       "      <td>811</td>\n",
       "      <td>61246</td>\n",
       "      <td>61254</td>\n",
       "      <td>60960</td>\n",
       "      <td>60926.0</td>\n",
       "      <td>46A</td>\n",
       "      <td>74</td>\n",
       "      <td>Rain</td>\n",
       "      <td>3.08</td>\n",
       "    </tr>\n",
       "  </tbody>\n",
       "</table>\n",
       "</div>"
      ],
      "text/plain": [
       "     daystamp  trip_id  stop_id  dep_p  dep_a  start_p  start_a line_id  \\\n",
       "0  1517961600  6253924      807  60960  60926    60960  60926.0     46A   \n",
       "1  1517961600  6253924      808  61053  61036    60960  60926.0     46A   \n",
       "2  1517961600  6253924      809  61107  61114    60960  60926.0     46A   \n",
       "3  1517961600  6253924      810  61193  61215    60960  60926.0     46A   \n",
       "4  1517961600  6253924      811  61246  61254    60960  60926.0     46A   \n",
       "\n",
       "   route_id weather  temp  \n",
       "0        74    Rain  3.08  \n",
       "1        74    Rain  3.08  \n",
       "2        74    Rain  3.08  \n",
       "3        74    Rain  3.08  \n",
       "4        74    Rain  3.08  "
      ]
     },
     "execution_count": 12,
     "metadata": {},
     "output_type": "execute_result"
    }
   ],
   "source": [
    "df.head()"
   ]
  },
  {
   "cell_type": "code",
   "execution_count": 13,
   "metadata": {},
   "outputs": [],
   "source": [
    "def daystamp_converter(time):\n",
    "    date=datetime.fromtimestamp(time)\n",
    "    return (date.weekday(),date.month,date.hour)"
   ]
  },
  {
   "cell_type": "code",
   "execution_count": 14,
   "metadata": {},
   "outputs": [],
   "source": [
    "df[\"datetime\"]=df.daystamp.values+df.dep_p.values"
   ]
  },
  {
   "cell_type": "code",
   "execution_count": 15,
   "metadata": {},
   "outputs": [],
   "source": [
    "df[\"weekday\"],df[\"month\"],df[\"hour\"]=zip(*df['datetime'].apply(daystamp_converter))"
   ]
  },
  {
   "cell_type": "code",
   "execution_count": 16,
   "metadata": {},
   "outputs": [
    {
     "data": {
      "text/html": [
       "<div>\n",
       "<style scoped>\n",
       "    .dataframe tbody tr th:only-of-type {\n",
       "        vertical-align: middle;\n",
       "    }\n",
       "\n",
       "    .dataframe tbody tr th {\n",
       "        vertical-align: top;\n",
       "    }\n",
       "\n",
       "    .dataframe thead th {\n",
       "        text-align: right;\n",
       "    }\n",
       "</style>\n",
       "<table border=\"1\" class=\"dataframe\">\n",
       "  <thead>\n",
       "    <tr style=\"text-align: right;\">\n",
       "      <th></th>\n",
       "      <th>daystamp</th>\n",
       "      <th>trip_id</th>\n",
       "      <th>stop_id</th>\n",
       "      <th>dep_p</th>\n",
       "      <th>dep_a</th>\n",
       "      <th>start_p</th>\n",
       "      <th>start_a</th>\n",
       "      <th>line_id</th>\n",
       "      <th>route_id</th>\n",
       "      <th>weather</th>\n",
       "      <th>temp</th>\n",
       "      <th>datetime</th>\n",
       "      <th>weekday</th>\n",
       "      <th>month</th>\n",
       "      <th>hour</th>\n",
       "    </tr>\n",
       "  </thead>\n",
       "  <tbody>\n",
       "    <tr>\n",
       "      <th>0</th>\n",
       "      <td>1517961600</td>\n",
       "      <td>6253924</td>\n",
       "      <td>807</td>\n",
       "      <td>60960</td>\n",
       "      <td>60926</td>\n",
       "      <td>60960</td>\n",
       "      <td>60926.0</td>\n",
       "      <td>46A</td>\n",
       "      <td>74</td>\n",
       "      <td>Rain</td>\n",
       "      <td>3.08</td>\n",
       "      <td>1518022560</td>\n",
       "      <td>2</td>\n",
       "      <td>2</td>\n",
       "      <td>16</td>\n",
       "    </tr>\n",
       "    <tr>\n",
       "      <th>1</th>\n",
       "      <td>1517961600</td>\n",
       "      <td>6253924</td>\n",
       "      <td>808</td>\n",
       "      <td>61053</td>\n",
       "      <td>61036</td>\n",
       "      <td>60960</td>\n",
       "      <td>60926.0</td>\n",
       "      <td>46A</td>\n",
       "      <td>74</td>\n",
       "      <td>Rain</td>\n",
       "      <td>3.08</td>\n",
       "      <td>1518022653</td>\n",
       "      <td>2</td>\n",
       "      <td>2</td>\n",
       "      <td>16</td>\n",
       "    </tr>\n",
       "    <tr>\n",
       "      <th>2</th>\n",
       "      <td>1517961600</td>\n",
       "      <td>6253924</td>\n",
       "      <td>809</td>\n",
       "      <td>61107</td>\n",
       "      <td>61114</td>\n",
       "      <td>60960</td>\n",
       "      <td>60926.0</td>\n",
       "      <td>46A</td>\n",
       "      <td>74</td>\n",
       "      <td>Rain</td>\n",
       "      <td>3.08</td>\n",
       "      <td>1518022707</td>\n",
       "      <td>2</td>\n",
       "      <td>2</td>\n",
       "      <td>16</td>\n",
       "    </tr>\n",
       "    <tr>\n",
       "      <th>3</th>\n",
       "      <td>1517961600</td>\n",
       "      <td>6253924</td>\n",
       "      <td>810</td>\n",
       "      <td>61193</td>\n",
       "      <td>61215</td>\n",
       "      <td>60960</td>\n",
       "      <td>60926.0</td>\n",
       "      <td>46A</td>\n",
       "      <td>74</td>\n",
       "      <td>Rain</td>\n",
       "      <td>3.08</td>\n",
       "      <td>1518022793</td>\n",
       "      <td>2</td>\n",
       "      <td>2</td>\n",
       "      <td>16</td>\n",
       "    </tr>\n",
       "    <tr>\n",
       "      <th>4</th>\n",
       "      <td>1517961600</td>\n",
       "      <td>6253924</td>\n",
       "      <td>811</td>\n",
       "      <td>61246</td>\n",
       "      <td>61254</td>\n",
       "      <td>60960</td>\n",
       "      <td>60926.0</td>\n",
       "      <td>46A</td>\n",
       "      <td>74</td>\n",
       "      <td>Rain</td>\n",
       "      <td>3.08</td>\n",
       "      <td>1518022846</td>\n",
       "      <td>2</td>\n",
       "      <td>2</td>\n",
       "      <td>17</td>\n",
       "    </tr>\n",
       "  </tbody>\n",
       "</table>\n",
       "</div>"
      ],
      "text/plain": [
       "     daystamp  trip_id  stop_id  dep_p  dep_a  start_p  start_a line_id  \\\n",
       "0  1517961600  6253924      807  60960  60926    60960  60926.0     46A   \n",
       "1  1517961600  6253924      808  61053  61036    60960  60926.0     46A   \n",
       "2  1517961600  6253924      809  61107  61114    60960  60926.0     46A   \n",
       "3  1517961600  6253924      810  61193  61215    60960  60926.0     46A   \n",
       "4  1517961600  6253924      811  61246  61254    60960  60926.0     46A   \n",
       "\n",
       "   route_id weather  temp    datetime  weekday  month  hour  \n",
       "0        74    Rain  3.08  1518022560        2      2    16  \n",
       "1        74    Rain  3.08  1518022653        2      2    16  \n",
       "2        74    Rain  3.08  1518022707        2      2    16  \n",
       "3        74    Rain  3.08  1518022793        2      2    16  \n",
       "4        74    Rain  3.08  1518022846        2      2    17  "
      ]
     },
     "execution_count": 16,
     "metadata": {},
     "output_type": "execute_result"
    }
   ],
   "source": [
    "df.head()"
   ]
  },
  {
   "cell_type": "code",
   "execution_count": 17,
   "metadata": {},
   "outputs": [],
   "source": [
    "df[\"dur_s\"]=df.dep_p.values-df.start_p.values\n",
    "df[\"dur_a\"]=df.dep_a.values-df.start_a.values"
   ]
  },
  {
   "cell_type": "code",
   "execution_count": 18,
   "metadata": {},
   "outputs": [],
   "source": [
    "df_ml=df.drop([\"daystamp\",\"trip_id\",\"dep_p\",\"dep_a\",\"start_p\",\"start_a\",\"datetime\"],axis=1)"
   ]
  },
  {
   "cell_type": "markdown",
   "metadata": {},
   "source": [
    "Filter out unusual routes:"
   ]
  },
  {
   "cell_type": "code",
   "execution_count": 19,
   "metadata": {},
   "outputs": [
    {
     "name": "stdout",
     "output_type": "stream",
     "text": [
      "1 most common route(s) cover 97.63% of the routes.\n"
     ]
    }
   ],
   "source": [
    "route_counts=df_ml.route_id.value_counts()\n",
    "indices=route_counts.index\n",
    "values=route_counts.values\n",
    "cum_value=0\n",
    "size=df_ml.shape[0]\n",
    "index=1\n",
    "for value in values:\n",
    "    cum_value+=value\n",
    "    ratio=cum_value/size\n",
    "    print(f\"{index} most common route(s) cover {ratio*100:.2f}% of the routes.\")\n",
    "    if(ratio>0.8):\n",
    "        break\n",
    "    index+=1"
   ]
  },
  {
   "cell_type": "code",
   "execution_count": 20,
   "metadata": {},
   "outputs": [
    {
     "data": {
      "text/plain": [
       "Int64Index([74], dtype='int64')"
      ]
     },
     "execution_count": 20,
     "metadata": {},
     "output_type": "execute_result"
    }
   ],
   "source": [
    "routes=indices[:index]\n",
    "routes"
   ]
  },
  {
   "cell_type": "code",
   "execution_count": 21,
   "metadata": {
    "scrolled": true
   },
   "outputs": [],
   "source": [
    "df_ml=df_ml[df_ml.route_id.isin(routes)]"
   ]
  },
  {
   "cell_type": "code",
   "execution_count": 22,
   "metadata": {},
   "outputs": [
    {
     "data": {
      "text/plain": [
       "(2094285, 10)"
      ]
     },
     "execution_count": 22,
     "metadata": {},
     "output_type": "execute_result"
    }
   ],
   "source": [
    "df_ml.shape"
   ]
  },
  {
   "cell_type": "markdown",
   "metadata": {},
   "source": [
    "Check for null values"
   ]
  },
  {
   "cell_type": "code",
   "execution_count": 23,
   "metadata": {},
   "outputs": [
    {
     "data": {
      "text/plain": [
       "stop_id         0\n",
       "line_id         0\n",
       "route_id        0\n",
       "weather         0\n",
       "temp            0\n",
       "weekday         0\n",
       "month           0\n",
       "hour            0\n",
       "dur_s           0\n",
       "dur_a       64155\n",
       "dtype: int64"
      ]
     },
     "execution_count": 23,
     "metadata": {},
     "output_type": "execute_result"
    }
   ],
   "source": [
    "df_ml.isnull().sum()"
   ]
  },
  {
   "cell_type": "code",
   "execution_count": 24,
   "metadata": {},
   "outputs": [
    {
     "data": {
      "text/plain": [
       "0.030633366518883532"
      ]
     },
     "execution_count": 24,
     "metadata": {},
     "output_type": "execute_result"
    }
   ],
   "source": [
    "df_ml.isnull().sum().sum()/df_ml.shape[0]"
   ]
  },
  {
   "cell_type": "code",
   "execution_count": 25,
   "metadata": {},
   "outputs": [],
   "source": [
    "df_ml = df_ml.dropna(axis = 0, how ='any') "
   ]
  },
  {
   "cell_type": "markdown",
   "metadata": {},
   "source": [
    "See how resulting stops line up:"
   ]
  },
  {
   "cell_type": "code",
   "execution_count": 26,
   "metadata": {},
   "outputs": [],
   "source": [
    "stop_counts=df_ml.stop_id.value_counts()"
   ]
  },
  {
   "cell_type": "code",
   "execution_count": 27,
   "metadata": {},
   "outputs": [
    {
     "data": {
      "text/plain": [
       "807     35117\n",
       "811     34929\n",
       "814     34927\n",
       "813     34924\n",
       "81      34920\n",
       "812     34920\n",
       "810     34903\n",
       "809     34887\n",
       "818     34887\n",
       "819     34881\n",
       "817     34879\n",
       "264     34805\n",
       "334     34759\n",
       "808     34732\n",
       "406     34703\n",
       "757     34688\n",
       "756     34687\n",
       "848     34685\n",
       "758     34681\n",
       "2795    34681\n",
       "847     34677\n",
       "759     34673\n",
       "6059    34632\n",
       "846     34621\n",
       "842     34575\n",
       "845     34529\n",
       "747     34525\n",
       "2007    34428\n",
       "2009    34414\n",
       "2008    34390\n",
       "2010    34388\n",
       "435     34335\n",
       "7353    34321\n",
       "4571    34216\n",
       "2013    34170\n",
       "2014    34143\n",
       "4636    34136\n",
       "2016    34134\n",
       "760     34128\n",
       "2015    34123\n",
       "2017    34120\n",
       "2018    34111\n",
       "2022    34105\n",
       "2021    34105\n",
       "2019    34103\n",
       "2020    34098\n",
       "4565    34091\n",
       "4566    34090\n",
       "4567    34089\n",
       "2032    34069\n",
       "2031    34069\n",
       "2034    34052\n",
       "2033    34050\n",
       "2035    34042\n",
       "2039    33994\n",
       "763     33908\n",
       "762     33819\n",
       "2036    33782\n",
       "761     33280\n",
       "Name: stop_id, dtype: int64"
      ]
     },
     "execution_count": 27,
     "metadata": {},
     "output_type": "execute_result"
    }
   ],
   "source": [
    "stop_counts"
   ]
  },
  {
   "cell_type": "markdown",
   "metadata": {},
   "source": [
    "Finally, drop line_id and route_id (both have cardinality 1 at this point)"
   ]
  },
  {
   "cell_type": "code",
   "execution_count": 28,
   "metadata": {},
   "outputs": [],
   "source": [
    "df_ml=df_ml.drop([\"line_id\",\"route_id\"],axis=1)"
   ]
  },
  {
   "cell_type": "code",
   "execution_count": 29,
   "metadata": {},
   "outputs": [
    {
     "data": {
      "text/html": [
       "<div>\n",
       "<style scoped>\n",
       "    .dataframe tbody tr th:only-of-type {\n",
       "        vertical-align: middle;\n",
       "    }\n",
       "\n",
       "    .dataframe tbody tr th {\n",
       "        vertical-align: top;\n",
       "    }\n",
       "\n",
       "    .dataframe thead th {\n",
       "        text-align: right;\n",
       "    }\n",
       "</style>\n",
       "<table border=\"1\" class=\"dataframe\">\n",
       "  <thead>\n",
       "    <tr style=\"text-align: right;\">\n",
       "      <th></th>\n",
       "      <th>stop_id</th>\n",
       "      <th>weather</th>\n",
       "      <th>temp</th>\n",
       "      <th>weekday</th>\n",
       "      <th>month</th>\n",
       "      <th>hour</th>\n",
       "      <th>dur_s</th>\n",
       "      <th>dur_a</th>\n",
       "    </tr>\n",
       "  </thead>\n",
       "  <tbody>\n",
       "    <tr>\n",
       "      <th>0</th>\n",
       "      <td>807</td>\n",
       "      <td>Rain</td>\n",
       "      <td>3.08</td>\n",
       "      <td>2</td>\n",
       "      <td>2</td>\n",
       "      <td>16</td>\n",
       "      <td>0</td>\n",
       "      <td>0.0</td>\n",
       "    </tr>\n",
       "    <tr>\n",
       "      <th>1</th>\n",
       "      <td>808</td>\n",
       "      <td>Rain</td>\n",
       "      <td>3.08</td>\n",
       "      <td>2</td>\n",
       "      <td>2</td>\n",
       "      <td>16</td>\n",
       "      <td>93</td>\n",
       "      <td>110.0</td>\n",
       "    </tr>\n",
       "    <tr>\n",
       "      <th>2</th>\n",
       "      <td>809</td>\n",
       "      <td>Rain</td>\n",
       "      <td>3.08</td>\n",
       "      <td>2</td>\n",
       "      <td>2</td>\n",
       "      <td>16</td>\n",
       "      <td>147</td>\n",
       "      <td>188.0</td>\n",
       "    </tr>\n",
       "    <tr>\n",
       "      <th>3</th>\n",
       "      <td>810</td>\n",
       "      <td>Rain</td>\n",
       "      <td>3.08</td>\n",
       "      <td>2</td>\n",
       "      <td>2</td>\n",
       "      <td>16</td>\n",
       "      <td>233</td>\n",
       "      <td>289.0</td>\n",
       "    </tr>\n",
       "    <tr>\n",
       "      <th>4</th>\n",
       "      <td>811</td>\n",
       "      <td>Rain</td>\n",
       "      <td>3.08</td>\n",
       "      <td>2</td>\n",
       "      <td>2</td>\n",
       "      <td>17</td>\n",
       "      <td>286</td>\n",
       "      <td>328.0</td>\n",
       "    </tr>\n",
       "  </tbody>\n",
       "</table>\n",
       "</div>"
      ],
      "text/plain": [
       "   stop_id weather  temp  weekday  month  hour  dur_s  dur_a\n",
       "0      807    Rain  3.08        2      2    16      0    0.0\n",
       "1      808    Rain  3.08        2      2    16     93  110.0\n",
       "2      809    Rain  3.08        2      2    16    147  188.0\n",
       "3      810    Rain  3.08        2      2    16    233  289.0\n",
       "4      811    Rain  3.08        2      2    17    286  328.0"
      ]
     },
     "execution_count": 29,
     "metadata": {},
     "output_type": "execute_result"
    }
   ],
   "source": [
    "df_ml.head()"
   ]
  },
  {
   "cell_type": "code",
   "execution_count": 30,
   "metadata": {},
   "outputs": [],
   "source": [
    "df_ml_810=df[df.stop_id==810]"
   ]
  },
  {
   "cell_type": "code",
   "execution_count": 31,
   "metadata": {},
   "outputs": [
    {
     "data": {
      "text/html": [
       "<div>\n",
       "<style scoped>\n",
       "    .dataframe tbody tr th:only-of-type {\n",
       "        vertical-align: middle;\n",
       "    }\n",
       "\n",
       "    .dataframe tbody tr th {\n",
       "        vertical-align: top;\n",
       "    }\n",
       "\n",
       "    .dataframe thead th {\n",
       "        text-align: right;\n",
       "    }\n",
       "</style>\n",
       "<table border=\"1\" class=\"dataframe\">\n",
       "  <thead>\n",
       "    <tr style=\"text-align: right;\">\n",
       "      <th></th>\n",
       "      <th>daystamp</th>\n",
       "      <th>trip_id</th>\n",
       "      <th>stop_id</th>\n",
       "      <th>dep_p</th>\n",
       "      <th>dep_a</th>\n",
       "      <th>start_p</th>\n",
       "      <th>start_a</th>\n",
       "      <th>line_id</th>\n",
       "      <th>route_id</th>\n",
       "      <th>weather</th>\n",
       "      <th>temp</th>\n",
       "      <th>datetime</th>\n",
       "      <th>weekday</th>\n",
       "      <th>month</th>\n",
       "      <th>hour</th>\n",
       "      <th>dur_s</th>\n",
       "      <th>dur_a</th>\n",
       "    </tr>\n",
       "  </thead>\n",
       "  <tbody>\n",
       "    <tr>\n",
       "      <th>3</th>\n",
       "      <td>1517961600</td>\n",
       "      <td>6253924</td>\n",
       "      <td>810</td>\n",
       "      <td>61193</td>\n",
       "      <td>61215</td>\n",
       "      <td>60960</td>\n",
       "      <td>60926.0</td>\n",
       "      <td>46A</td>\n",
       "      <td>74</td>\n",
       "      <td>Rain</td>\n",
       "      <td>3.08</td>\n",
       "      <td>1518022793</td>\n",
       "      <td>2</td>\n",
       "      <td>2</td>\n",
       "      <td>16</td>\n",
       "      <td>233</td>\n",
       "      <td>289.0</td>\n",
       "    </tr>\n",
       "    <tr>\n",
       "      <th>62</th>\n",
       "      <td>1517961600</td>\n",
       "      <td>6262164</td>\n",
       "      <td>810</td>\n",
       "      <td>24694</td>\n",
       "      <td>24930</td>\n",
       "      <td>24480</td>\n",
       "      <td>24697.0</td>\n",
       "      <td>46A</td>\n",
       "      <td>74</td>\n",
       "      <td>Clouds</td>\n",
       "      <td>-1.60</td>\n",
       "      <td>1517986294</td>\n",
       "      <td>2</td>\n",
       "      <td>2</td>\n",
       "      <td>6</td>\n",
       "      <td>214</td>\n",
       "      <td>233.0</td>\n",
       "    </tr>\n",
       "    <tr>\n",
       "      <th>121</th>\n",
       "      <td>1520726400</td>\n",
       "      <td>6397655</td>\n",
       "      <td>810</td>\n",
       "      <td>83817</td>\n",
       "      <td>83837</td>\n",
       "      <td>83700</td>\n",
       "      <td>83653.0</td>\n",
       "      <td>46A</td>\n",
       "      <td>74</td>\n",
       "      <td>Rain</td>\n",
       "      <td>6.99</td>\n",
       "      <td>1520810217</td>\n",
       "      <td>6</td>\n",
       "      <td>3</td>\n",
       "      <td>23</td>\n",
       "      <td>117</td>\n",
       "      <td>184.0</td>\n",
       "    </tr>\n",
       "    <tr>\n",
       "      <th>180</th>\n",
       "      <td>1520726400</td>\n",
       "      <td>6392156</td>\n",
       "      <td>810</td>\n",
       "      <td>77517</td>\n",
       "      <td>77506</td>\n",
       "      <td>77400</td>\n",
       "      <td>77400.0</td>\n",
       "      <td>46A</td>\n",
       "      <td>74</td>\n",
       "      <td>Rain</td>\n",
       "      <td>6.99</td>\n",
       "      <td>1520803917</td>\n",
       "      <td>6</td>\n",
       "      <td>3</td>\n",
       "      <td>21</td>\n",
       "      <td>117</td>\n",
       "      <td>106.0</td>\n",
       "    </tr>\n",
       "    <tr>\n",
       "      <th>239</th>\n",
       "      <td>1520726400</td>\n",
       "      <td>6392515</td>\n",
       "      <td>810</td>\n",
       "      <td>75717</td>\n",
       "      <td>75740</td>\n",
       "      <td>75600</td>\n",
       "      <td>75633.0</td>\n",
       "      <td>46A</td>\n",
       "      <td>74</td>\n",
       "      <td>Clouds</td>\n",
       "      <td>6.95</td>\n",
       "      <td>1520802117</td>\n",
       "      <td>6</td>\n",
       "      <td>3</td>\n",
       "      <td>21</td>\n",
       "      <td>117</td>\n",
       "      <td>107.0</td>\n",
       "    </tr>\n",
       "    <tr>\n",
       "      <th>...</th>\n",
       "      <td>...</td>\n",
       "      <td>...</td>\n",
       "      <td>...</td>\n",
       "      <td>...</td>\n",
       "      <td>...</td>\n",
       "      <td>...</td>\n",
       "      <td>...</td>\n",
       "      <td>...</td>\n",
       "      <td>...</td>\n",
       "      <td>...</td>\n",
       "      <td>...</td>\n",
       "      <td>...</td>\n",
       "      <td>...</td>\n",
       "      <td>...</td>\n",
       "      <td>...</td>\n",
       "      <td>...</td>\n",
       "      <td>...</td>\n",
       "    </tr>\n",
       "    <tr>\n",
       "      <th>2144739</th>\n",
       "      <td>1526338800</td>\n",
       "      <td>6764906</td>\n",
       "      <td>810</td>\n",
       "      <td>45301</td>\n",
       "      <td>45313</td>\n",
       "      <td>45120</td>\n",
       "      <td>45157.0</td>\n",
       "      <td>46A</td>\n",
       "      <td>74</td>\n",
       "      <td>Clouds</td>\n",
       "      <td>16.27</td>\n",
       "      <td>1526384101</td>\n",
       "      <td>1</td>\n",
       "      <td>5</td>\n",
       "      <td>12</td>\n",
       "      <td>181</td>\n",
       "      <td>156.0</td>\n",
       "    </tr>\n",
       "    <tr>\n",
       "      <th>2144762</th>\n",
       "      <td>1526338800</td>\n",
       "      <td>6763274</td>\n",
       "      <td>810</td>\n",
       "      <td>35251</td>\n",
       "      <td>35283</td>\n",
       "      <td>35040</td>\n",
       "      <td>35040.0</td>\n",
       "      <td>46A</td>\n",
       "      <td>74</td>\n",
       "      <td>Clouds</td>\n",
       "      <td>15.13</td>\n",
       "      <td>1526374051</td>\n",
       "      <td>1</td>\n",
       "      <td>5</td>\n",
       "      <td>9</td>\n",
       "      <td>211</td>\n",
       "      <td>243.0</td>\n",
       "    </tr>\n",
       "    <tr>\n",
       "      <th>2144821</th>\n",
       "      <td>1526338800</td>\n",
       "      <td>6753808</td>\n",
       "      <td>810</td>\n",
       "      <td>57324</td>\n",
       "      <td>57232</td>\n",
       "      <td>57120</td>\n",
       "      <td>57111.0</td>\n",
       "      <td>46A</td>\n",
       "      <td>74</td>\n",
       "      <td>Clouds</td>\n",
       "      <td>14.78</td>\n",
       "      <td>1526396124</td>\n",
       "      <td>1</td>\n",
       "      <td>5</td>\n",
       "      <td>15</td>\n",
       "      <td>204</td>\n",
       "      <td>121.0</td>\n",
       "    </tr>\n",
       "    <tr>\n",
       "      <th>2144928</th>\n",
       "      <td>1526252400</td>\n",
       "      <td>6763192</td>\n",
       "      <td>810</td>\n",
       "      <td>60515</td>\n",
       "      <td>60581</td>\n",
       "      <td>60300</td>\n",
       "      <td>60273.0</td>\n",
       "      <td>46A</td>\n",
       "      <td>74</td>\n",
       "      <td>Clouds</td>\n",
       "      <td>14.70</td>\n",
       "      <td>1526312915</td>\n",
       "      <td>0</td>\n",
       "      <td>5</td>\n",
       "      <td>16</td>\n",
       "      <td>215</td>\n",
       "      <td>308.0</td>\n",
       "    </tr>\n",
       "    <tr>\n",
       "      <th>2145004</th>\n",
       "      <td>1526338800</td>\n",
       "      <td>6762038</td>\n",
       "      <td>810</td>\n",
       "      <td>60695</td>\n",
       "      <td>60897</td>\n",
       "      <td>60480</td>\n",
       "      <td>60456.0</td>\n",
       "      <td>46A</td>\n",
       "      <td>74</td>\n",
       "      <td>Clouds</td>\n",
       "      <td>14.33</td>\n",
       "      <td>1526399495</td>\n",
       "      <td>1</td>\n",
       "      <td>5</td>\n",
       "      <td>16</td>\n",
       "      <td>215</td>\n",
       "      <td>441.0</td>\n",
       "    </tr>\n",
       "  </tbody>\n",
       "</table>\n",
       "<p>35760 rows × 17 columns</p>\n",
       "</div>"
      ],
      "text/plain": [
       "           daystamp  trip_id  stop_id  dep_p  dep_a  start_p  start_a line_id  \\\n",
       "3        1517961600  6253924      810  61193  61215    60960  60926.0     46A   \n",
       "62       1517961600  6262164      810  24694  24930    24480  24697.0     46A   \n",
       "121      1520726400  6397655      810  83817  83837    83700  83653.0     46A   \n",
       "180      1520726400  6392156      810  77517  77506    77400  77400.0     46A   \n",
       "239      1520726400  6392515      810  75717  75740    75600  75633.0     46A   \n",
       "...             ...      ...      ...    ...    ...      ...      ...     ...   \n",
       "2144739  1526338800  6764906      810  45301  45313    45120  45157.0     46A   \n",
       "2144762  1526338800  6763274      810  35251  35283    35040  35040.0     46A   \n",
       "2144821  1526338800  6753808      810  57324  57232    57120  57111.0     46A   \n",
       "2144928  1526252400  6763192      810  60515  60581    60300  60273.0     46A   \n",
       "2145004  1526338800  6762038      810  60695  60897    60480  60456.0     46A   \n",
       "\n",
       "         route_id weather   temp    datetime  weekday  month  hour  dur_s  \\\n",
       "3              74    Rain   3.08  1518022793        2      2    16    233   \n",
       "62             74  Clouds  -1.60  1517986294        2      2     6    214   \n",
       "121            74    Rain   6.99  1520810217        6      3    23    117   \n",
       "180            74    Rain   6.99  1520803917        6      3    21    117   \n",
       "239            74  Clouds   6.95  1520802117        6      3    21    117   \n",
       "...           ...     ...    ...         ...      ...    ...   ...    ...   \n",
       "2144739        74  Clouds  16.27  1526384101        1      5    12    181   \n",
       "2144762        74  Clouds  15.13  1526374051        1      5     9    211   \n",
       "2144821        74  Clouds  14.78  1526396124        1      5    15    204   \n",
       "2144928        74  Clouds  14.70  1526312915        0      5    16    215   \n",
       "2145004        74  Clouds  14.33  1526399495        1      5    16    215   \n",
       "\n",
       "         dur_a  \n",
       "3        289.0  \n",
       "62       233.0  \n",
       "121      184.0  \n",
       "180      106.0  \n",
       "239      107.0  \n",
       "...        ...  \n",
       "2144739  156.0  \n",
       "2144762  243.0  \n",
       "2144821  121.0  \n",
       "2144928  308.0  \n",
       "2145004  441.0  \n",
       "\n",
       "[35760 rows x 17 columns]"
      ]
     },
     "execution_count": 31,
     "metadata": {},
     "output_type": "execute_result"
    }
   ],
   "source": [
    "df_ml_810"
   ]
  },
  {
   "cell_type": "code",
   "execution_count": 32,
   "metadata": {},
   "outputs": [],
   "source": [
    "df_weekday=pd.get_dummies(df_ml.weekday)\n",
    "df_month=pd.get_dummies(df_ml.month)\n",
    "df_hour=pd.get_dummies(df_ml.hour)\n",
    "df_weather=pd.get_dummies(df_ml.weather)\n",
    "df_stops=pd.get_dummies(df_ml.stop_id)"
   ]
  },
  {
   "cell_type": "code",
   "execution_count": 33,
   "metadata": {
    "scrolled": true
   },
   "outputs": [],
   "source": [
    "#setting up splits for prediction of scheduled duration\n",
    "y_prior=df_ml[\"dur_s\"]\n",
    "df_test_prior=pd.concat([df_weekday,df_month,df_hour,df_stops],axis=1)\n",
    "X=df_test_prior\n",
    "X_train,X_test,y_train,y_test=train_test_split(X,y_prior,random_state=1)"
   ]
  },
  {
   "cell_type": "code",
   "execution_count": null,
   "metadata": {},
   "outputs": [],
   "source": [
    "regr_relu=MLPRegressor(activation=\"relu\",random_state=1, max_iter=100, verbose=1).fit(X_train, y_train)"
   ]
  },
  {
   "cell_type": "code",
   "execution_count": 36,
   "metadata": {},
   "outputs": [
    {
     "data": {
      "text/plain": [
       "0.9881124114587736"
      ]
     },
     "execution_count": 36,
     "metadata": {},
     "output_type": "execute_result"
    }
   ],
   "source": [
    "regr_relu.score(X_test, y_test)"
   ]
  },
  {
   "cell_type": "markdown",
   "metadata": {},
   "source": [
    "Above's neural network took about 10 mins to train. If schedule info isn't available elsewhere, we could use one predictor for the scheduled time and a second for the actual after the scheduled time was predicted."
   ]
  },
  {
   "cell_type": "code",
   "execution_count": 34,
   "metadata": {},
   "outputs": [],
   "source": [
    "reg = LinearRegression().fit(X_train, y_train)"
   ]
  },
  {
   "cell_type": "code",
   "execution_count": 35,
   "metadata": {},
   "outputs": [
    {
     "data": {
      "text/plain": [
       "0.963409408709"
      ]
     },
     "execution_count": 35,
     "metadata": {},
     "output_type": "execute_result"
    }
   ],
   "source": [
    "reg.score(X_test, y_test)"
   ]
  },
  {
   "cell_type": "markdown",
   "metadata": {},
   "source": [
    "For comparison, a linear regressor takes about 5 secs to train and make predictions"
   ]
  },
  {
   "cell_type": "code",
   "execution_count": 36,
   "metadata": {},
   "outputs": [],
   "source": [
    "y=df_ml[\"dur_a\"]\n",
    "df_test=df_ml.drop([\"stop_id\",\"weather\",\"dur_a\"],axis=1)"
   ]
  },
  {
   "cell_type": "code",
   "execution_count": 37,
   "metadata": {},
   "outputs": [
    {
     "data": {
      "text/html": [
       "<div>\n",
       "<style scoped>\n",
       "    .dataframe tbody tr th:only-of-type {\n",
       "        vertical-align: middle;\n",
       "    }\n",
       "\n",
       "    .dataframe tbody tr th {\n",
       "        vertical-align: top;\n",
       "    }\n",
       "\n",
       "    .dataframe thead th {\n",
       "        text-align: right;\n",
       "    }\n",
       "</style>\n",
       "<table border=\"1\" class=\"dataframe\">\n",
       "  <thead>\n",
       "    <tr style=\"text-align: right;\">\n",
       "      <th></th>\n",
       "      <th>temp</th>\n",
       "      <th>weekday</th>\n",
       "      <th>month</th>\n",
       "      <th>hour</th>\n",
       "      <th>dur_s</th>\n",
       "    </tr>\n",
       "  </thead>\n",
       "  <tbody>\n",
       "    <tr>\n",
       "      <th>0</th>\n",
       "      <td>3.08</td>\n",
       "      <td>2</td>\n",
       "      <td>2</td>\n",
       "      <td>16</td>\n",
       "      <td>0</td>\n",
       "    </tr>\n",
       "    <tr>\n",
       "      <th>1</th>\n",
       "      <td>3.08</td>\n",
       "      <td>2</td>\n",
       "      <td>2</td>\n",
       "      <td>16</td>\n",
       "      <td>93</td>\n",
       "    </tr>\n",
       "    <tr>\n",
       "      <th>2</th>\n",
       "      <td>3.08</td>\n",
       "      <td>2</td>\n",
       "      <td>2</td>\n",
       "      <td>16</td>\n",
       "      <td>147</td>\n",
       "    </tr>\n",
       "    <tr>\n",
       "      <th>3</th>\n",
       "      <td>3.08</td>\n",
       "      <td>2</td>\n",
       "      <td>2</td>\n",
       "      <td>16</td>\n",
       "      <td>233</td>\n",
       "    </tr>\n",
       "    <tr>\n",
       "      <th>4</th>\n",
       "      <td>3.08</td>\n",
       "      <td>2</td>\n",
       "      <td>2</td>\n",
       "      <td>17</td>\n",
       "      <td>286</td>\n",
       "    </tr>\n",
       "  </tbody>\n",
       "</table>\n",
       "</div>"
      ],
      "text/plain": [
       "   temp  weekday  month  hour  dur_s\n",
       "0  3.08        2      2    16      0\n",
       "1  3.08        2      2    16     93\n",
       "2  3.08        2      2    16    147\n",
       "3  3.08        2      2    16    233\n",
       "4  3.08        2      2    17    286"
      ]
     },
     "execution_count": 37,
     "metadata": {},
     "output_type": "execute_result"
    }
   ],
   "source": [
    "df_test.head()"
   ]
  },
  {
   "cell_type": "code",
   "execution_count": 38,
   "metadata": {},
   "outputs": [],
   "source": [
    "df_test=df_test.drop([\"weekday\",\"month\",\"hour\"],axis=1)"
   ]
  },
  {
   "cell_type": "code",
   "execution_count": 39,
   "metadata": {},
   "outputs": [],
   "source": [
    "df_test=pd.concat([df_test,df_weather,df_weekday,df_month,df_hour],axis=1)"
   ]
  },
  {
   "cell_type": "code",
   "execution_count": 40,
   "metadata": {},
   "outputs": [
    {
     "data": {
      "text/plain": [
       "(2030130, 49)"
      ]
     },
     "execution_count": 40,
     "metadata": {},
     "output_type": "execute_result"
    }
   ],
   "source": [
    "df_test.shape"
   ]
  },
  {
   "cell_type": "code",
   "execution_count": 41,
   "metadata": {},
   "outputs": [],
   "source": [
    "X=df_test"
   ]
  },
  {
   "cell_type": "code",
   "execution_count": 42,
   "metadata": {},
   "outputs": [],
   "source": [
    "X_train,X_test,y_train,y_test=train_test_split(X,y,random_state=1)"
   ]
  },
  {
   "cell_type": "code",
   "execution_count": 50,
   "metadata": {
    "scrolled": true
   },
   "outputs": [
    {
     "name": "stdout",
     "output_type": "stream",
     "text": [
      "Iteration 1, loss = 119204.66950077\n",
      "Iteration 2, loss = 71929.71894800\n",
      "Iteration 3, loss = 70293.85671083\n",
      "Iteration 4, loss = 69369.41826543\n",
      "Iteration 5, loss = 68973.24066100\n",
      "Iteration 6, loss = 68594.58577374\n",
      "Iteration 7, loss = 68641.13589531\n",
      "Iteration 8, loss = 68392.02902936\n",
      "Iteration 9, loss = 68335.92583998\n",
      "Iteration 10, loss = 68103.48492222\n",
      "Iteration 11, loss = 68105.74877054\n",
      "Iteration 12, loss = 67933.58056800\n",
      "Iteration 13, loss = 67843.77519515\n",
      "Iteration 14, loss = 67728.06374080\n",
      "Iteration 15, loss = 67692.75523335\n",
      "Iteration 16, loss = 67499.14183942\n",
      "Iteration 17, loss = 67448.09497662\n",
      "Iteration 18, loss = 67436.78215532\n",
      "Iteration 19, loss = 67222.37520219\n",
      "Iteration 20, loss = 67137.80627570\n",
      "Iteration 21, loss = 67196.58358438\n",
      "Iteration 22, loss = 67033.63211109\n",
      "Iteration 23, loss = 66910.67694706\n",
      "Iteration 24, loss = 66881.95982112\n",
      "Iteration 25, loss = 66881.48469560\n",
      "Iteration 26, loss = 66880.34302119\n",
      "Iteration 27, loss = 66716.85660354\n",
      "Iteration 28, loss = 66619.22348658\n",
      "Iteration 29, loss = 66537.88071734\n",
      "Iteration 30, loss = 66480.67243736\n",
      "Iteration 31, loss = 66373.19361085\n",
      "Iteration 32, loss = 66251.50390305\n",
      "Iteration 33, loss = 66044.49694156\n",
      "Iteration 34, loss = 65991.00653386\n",
      "Iteration 35, loss = 65972.15105633\n",
      "Iteration 36, loss = 65815.65850658\n",
      "Iteration 37, loss = 65691.06418660\n",
      "Iteration 38, loss = 65595.13145888\n",
      "Iteration 39, loss = 65539.26826777\n",
      "Iteration 40, loss = 65404.73892544\n",
      "Iteration 41, loss = 65414.69668229\n",
      "Iteration 42, loss = 65232.29701113\n",
      "Iteration 43, loss = 65127.84154207\n",
      "Iteration 44, loss = 65199.52515451\n",
      "Iteration 45, loss = 65134.25147590\n",
      "Iteration 46, loss = 65002.00976369\n",
      "Iteration 47, loss = 64949.17829477\n",
      "Iteration 48, loss = 64888.20982345\n",
      "Iteration 49, loss = 64797.95074004\n",
      "Iteration 50, loss = 64729.77208113\n",
      "Iteration 51, loss = 64655.23730030\n",
      "Iteration 52, loss = 64625.80672477\n",
      "Iteration 53, loss = 64575.01088464\n",
      "Iteration 54, loss = 64524.54515629\n",
      "Iteration 55, loss = 64453.23970335\n",
      "Iteration 56, loss = 64432.86463242\n",
      "Iteration 57, loss = 64291.93043614\n",
      "Iteration 58, loss = 64287.23487966\n",
      "Iteration 59, loss = 64256.15623977\n",
      "Iteration 60, loss = 64191.44883358\n",
      "Iteration 61, loss = 64117.07023442\n",
      "Iteration 62, loss = 63996.23290092\n",
      "Iteration 63, loss = 63985.79164386\n",
      "Iteration 64, loss = 63853.27609255\n",
      "Iteration 65, loss = 63838.06038566\n",
      "Iteration 66, loss = 63723.13718230\n",
      "Iteration 67, loss = 63734.14773537\n",
      "Iteration 68, loss = 63627.53425031\n",
      "Iteration 69, loss = 63634.94201617\n",
      "Iteration 70, loss = 63466.51954929\n",
      "Iteration 71, loss = 63482.91462773\n",
      "Iteration 72, loss = 63460.89032048\n",
      "Iteration 73, loss = 63390.37503714\n",
      "Iteration 74, loss = 63347.12513113\n",
      "Iteration 75, loss = 63313.96468901\n",
      "Iteration 76, loss = 63247.53390624\n",
      "Iteration 77, loss = 63211.04032061\n",
      "Iteration 78, loss = 63133.40103813\n",
      "Iteration 79, loss = 63166.38412976\n",
      "Iteration 80, loss = 63119.93554209\n",
      "Iteration 81, loss = 63069.11064477\n",
      "Iteration 82, loss = 63107.44917074\n",
      "Iteration 83, loss = 63073.40372771\n",
      "Iteration 84, loss = 63036.18800973\n",
      "Iteration 85, loss = 62947.96813201\n",
      "Iteration 86, loss = 62828.39424297\n",
      "Iteration 87, loss = 62810.93979634\n",
      "Iteration 88, loss = 62785.42903827\n",
      "Iteration 89, loss = 62707.00105439\n",
      "Iteration 90, loss = 62632.11942615\n",
      "Iteration 91, loss = 62609.75908696\n",
      "Iteration 92, loss = 62588.23624031\n",
      "Iteration 93, loss = 62476.56840545\n",
      "Iteration 94, loss = 62482.05395513\n",
      "Iteration 95, loss = 62390.96371203\n",
      "Iteration 96, loss = 62383.27385834\n",
      "Iteration 97, loss = 62314.27883623\n",
      "Iteration 98, loss = 62290.07321483\n",
      "Iteration 99, loss = 62175.58465785\n",
      "Iteration 100, loss = 62188.07046073\n"
     ]
    },
    {
     "name": "stderr",
     "output_type": "stream",
     "text": [
      "c:\\python38\\lib\\site-packages\\sklearn\\neural_network\\_multilayer_perceptron.py:582: ConvergenceWarning: Stochastic Optimizer: Maximum iterations (100) reached and the optimization hasn't converged yet.\n",
      "  warnings.warn(\n"
     ]
    }
   ],
   "source": [
    "regr_relu=MLPRegressor(activation=\"relu\",random_state=1, max_iter=100, verbose=1).fit(X_train, y_train)"
   ]
  },
  {
   "cell_type": "code",
   "execution_count": 51,
   "metadata": {},
   "outputs": [
    {
     "data": {
      "text/plain": [
       "0.9376675098304893"
      ]
     },
     "execution_count": 51,
     "metadata": {},
     "output_type": "execute_result"
    }
   ],
   "source": [
    "regr_relu.score(X_test, y_test)"
   ]
  },
  {
   "cell_type": "markdown",
   "metadata": {},
   "source": [
    "Model above took about 12 mins to train"
   ]
  },
  {
   "cell_type": "markdown",
   "metadata": {},
   "source": [
    "First model try took almost 2 hours to run, good starting value, but below 64k after around 100 iterations and ended up at 61k, converging after 430 iterations. accuracy of 0.937145. That model included stop_id dummy encoded and day instead of workday. none of the dates were dummy encoded."
   ]
  },
  {
   "cell_type": "code",
   "execution_count": 43,
   "metadata": {},
   "outputs": [],
   "source": [
    "reg = LinearRegression().fit(X_train, y_train)"
   ]
  },
  {
   "cell_type": "code",
   "execution_count": 44,
   "metadata": {},
   "outputs": [
    {
     "data": {
      "text/plain": [
       "0.9325282724189506"
      ]
     },
     "execution_count": 44,
     "metadata": {},
     "output_type": "execute_result"
    }
   ],
   "source": [
    "reg.score(X_test, y_test)"
   ]
  }
 ],
 "metadata": {
  "kernelspec": {
   "display_name": "Python 3",
   "language": "python",
   "name": "python3"
  },
  "language_info": {
   "codemirror_mode": {
    "name": "ipython",
    "version": 3
   },
   "file_extension": ".py",
   "mimetype": "text/x-python",
   "name": "python",
   "nbconvert_exporter": "python",
   "pygments_lexer": "ipython3",
   "version": "3.8.3"
  }
 },
 "nbformat": 4,
 "nbformat_minor": 4
}
