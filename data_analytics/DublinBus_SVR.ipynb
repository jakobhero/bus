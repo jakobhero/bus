{
 "cells": [
  {
   "cell_type": "code",
   "execution_count": 1,
   "metadata": {},
   "outputs": [],
   "source": [
    "from sklearn.model_selection import train_test_split\n",
    "from sklearn.preprocessing import StandardScaler\n",
    "from sklearn.svm import SVR\n",
    "from sklearn.svm import LinearSVR\n",
    "from sklearn import metrics\n",
    "from sklearn import preprocessing\n",
    "from sklearn.metrics import r2_score, mean_squared_error, mean_absolute_error\n",
    "import numpy as np\n",
    "import pandas as pd\n",
    "from sklearn import preprocessing\n",
    "import datetime\n",
    "from sklearn.model_selection import GridSearchCV"
   ]
  },
  {
   "cell_type": "code",
   "execution_count": 2,
   "metadata": {},
   "outputs": [],
   "source": [
    "df = pd.read_csv('46A_1_calt.csv')\n",
    "\n",
    "df = df.drop(columns=['dt','Unnamed: 0','tripid','stop_id'])\n",
    "dataset = df.copy()\n",
    "dataset = pd.get_dummies(df)"
   ]
  },
  {
   "cell_type": "code",
   "execution_count": 3,
   "metadata": {},
   "outputs": [
    {
     "data": {
      "text/html": [
       "<div>\n",
       "<style scoped>\n",
       "    .dataframe tbody tr th:only-of-type {\n",
       "        vertical-align: middle;\n",
       "    }\n",
       "\n",
       "    .dataframe tbody tr th {\n",
       "        vertical-align: top;\n",
       "    }\n",
       "\n",
       "    .dataframe thead th {\n",
       "        text-align: right;\n",
       "    }\n",
       "</style>\n",
       "<table border=\"1\" class=\"dataframe\">\n",
       "  <thead>\n",
       "    <tr style=\"text-align: right;\">\n",
       "      <th></th>\n",
       "      <th>dayofweek</th>\n",
       "      <th>month</th>\n",
       "      <th>day</th>\n",
       "      <th>hour</th>\n",
       "      <th>rush_hour</th>\n",
       "      <th>progrnum</th>\n",
       "      <th>cum_duration</th>\n",
       "      <th>temp</th>\n",
       "      <th>pressure</th>\n",
       "      <th>humidity</th>\n",
       "      <th>wind_speed</th>\n",
       "      <th>weather_main_Clear</th>\n",
       "      <th>weather_main_Clouds</th>\n",
       "      <th>weather_main_Drizzle</th>\n",
       "      <th>weather_main_Fog</th>\n",
       "      <th>weather_main_Mist</th>\n",
       "      <th>weather_main_Rain</th>\n",
       "      <th>weather_main_Snow</th>\n",
       "    </tr>\n",
       "  </thead>\n",
       "  <tbody>\n",
       "    <tr>\n",
       "      <th>count</th>\n",
       "      <td>458084.000000</td>\n",
       "      <td>458084.000000</td>\n",
       "      <td>458084.000000</td>\n",
       "      <td>458084.000000</td>\n",
       "      <td>458084.000000</td>\n",
       "      <td>458084.000000</td>\n",
       "      <td>458084.000000</td>\n",
       "      <td>458084.000000</td>\n",
       "      <td>458084.000000</td>\n",
       "      <td>458084.000000</td>\n",
       "      <td>458084.000000</td>\n",
       "      <td>458084.000000</td>\n",
       "      <td>458084.000000</td>\n",
       "      <td>458084.000000</td>\n",
       "      <td>458084.000000</td>\n",
       "      <td>458084.000000</td>\n",
       "      <td>458084.000000</td>\n",
       "      <td>458084.000000</td>\n",
       "    </tr>\n",
       "    <tr>\n",
       "      <th>mean</th>\n",
       "      <td>2.643834</td>\n",
       "      <td>1.946062</td>\n",
       "      <td>15.986705</td>\n",
       "      <td>14.495713</td>\n",
       "      <td>0.298179</td>\n",
       "      <td>29.500000</td>\n",
       "      <td>2437.552971</td>\n",
       "      <td>5.305503</td>\n",
       "      <td>1007.934331</td>\n",
       "      <td>80.642417</td>\n",
       "      <td>6.650330</td>\n",
       "      <td>0.004910</td>\n",
       "      <td>0.764089</td>\n",
       "      <td>0.064885</td>\n",
       "      <td>0.012947</td>\n",
       "      <td>0.007542</td>\n",
       "      <td>0.123399</td>\n",
       "      <td>0.022227</td>\n",
       "    </tr>\n",
       "    <tr>\n",
       "      <th>std</th>\n",
       "      <td>1.894908</td>\n",
       "      <td>0.818332</td>\n",
       "      <td>8.523654</td>\n",
       "      <td>4.651603</td>\n",
       "      <td>0.457459</td>\n",
       "      <td>16.740687</td>\n",
       "      <td>1392.799037</td>\n",
       "      <td>2.880453</td>\n",
       "      <td>13.768472</td>\n",
       "      <td>11.955047</td>\n",
       "      <td>3.040267</td>\n",
       "      <td>0.069896</td>\n",
       "      <td>0.424567</td>\n",
       "      <td>0.246324</td>\n",
       "      <td>0.113048</td>\n",
       "      <td>0.086518</td>\n",
       "      <td>0.328895</td>\n",
       "      <td>0.147422</td>\n",
       "    </tr>\n",
       "    <tr>\n",
       "      <th>min</th>\n",
       "      <td>0.000000</td>\n",
       "      <td>1.000000</td>\n",
       "      <td>1.000000</td>\n",
       "      <td>6.000000</td>\n",
       "      <td>0.000000</td>\n",
       "      <td>1.000000</td>\n",
       "      <td>0.000000</td>\n",
       "      <td>-3.660000</td>\n",
       "      <td>981.000000</td>\n",
       "      <td>34.000000</td>\n",
       "      <td>0.510000</td>\n",
       "      <td>0.000000</td>\n",
       "      <td>0.000000</td>\n",
       "      <td>0.000000</td>\n",
       "      <td>0.000000</td>\n",
       "      <td>0.000000</td>\n",
       "      <td>0.000000</td>\n",
       "      <td>0.000000</td>\n",
       "    </tr>\n",
       "    <tr>\n",
       "      <th>25%</th>\n",
       "      <td>1.000000</td>\n",
       "      <td>1.000000</td>\n",
       "      <td>9.000000</td>\n",
       "      <td>11.000000</td>\n",
       "      <td>0.000000</td>\n",
       "      <td>15.000000</td>\n",
       "      <td>1348.000000</td>\n",
       "      <td>3.140000</td>\n",
       "      <td>996.000000</td>\n",
       "      <td>75.000000</td>\n",
       "      <td>4.120000</td>\n",
       "      <td>0.000000</td>\n",
       "      <td>1.000000</td>\n",
       "      <td>0.000000</td>\n",
       "      <td>0.000000</td>\n",
       "      <td>0.000000</td>\n",
       "      <td>0.000000</td>\n",
       "      <td>0.000000</td>\n",
       "    </tr>\n",
       "    <tr>\n",
       "      <th>50%</th>\n",
       "      <td>3.000000</td>\n",
       "      <td>2.000000</td>\n",
       "      <td>16.000000</td>\n",
       "      <td>15.000000</td>\n",
       "      <td>0.000000</td>\n",
       "      <td>29.500000</td>\n",
       "      <td>2530.000000</td>\n",
       "      <td>5.200000</td>\n",
       "      <td>1007.000000</td>\n",
       "      <td>81.000000</td>\n",
       "      <td>6.170000</td>\n",
       "      <td>0.000000</td>\n",
       "      <td>1.000000</td>\n",
       "      <td>0.000000</td>\n",
       "      <td>0.000000</td>\n",
       "      <td>0.000000</td>\n",
       "      <td>0.000000</td>\n",
       "      <td>0.000000</td>\n",
       "    </tr>\n",
       "    <tr>\n",
       "      <th>75%</th>\n",
       "      <td>4.000000</td>\n",
       "      <td>3.000000</td>\n",
       "      <td>23.000000</td>\n",
       "      <td>18.000000</td>\n",
       "      <td>1.000000</td>\n",
       "      <td>44.000000</td>\n",
       "      <td>3481.000000</td>\n",
       "      <td>7.560000</td>\n",
       "      <td>1019.000000</td>\n",
       "      <td>87.000000</td>\n",
       "      <td>8.750000</td>\n",
       "      <td>0.000000</td>\n",
       "      <td>1.000000</td>\n",
       "      <td>0.000000</td>\n",
       "      <td>0.000000</td>\n",
       "      <td>0.000000</td>\n",
       "      <td>0.000000</td>\n",
       "      <td>0.000000</td>\n",
       "    </tr>\n",
       "    <tr>\n",
       "      <th>max</th>\n",
       "      <td>6.000000</td>\n",
       "      <td>4.000000</td>\n",
       "      <td>31.000000</td>\n",
       "      <td>24.000000</td>\n",
       "      <td>1.000000</td>\n",
       "      <td>58.000000</td>\n",
       "      <td>7191.000000</td>\n",
       "      <td>12.390000</td>\n",
       "      <td>1034.000000</td>\n",
       "      <td>100.000000</td>\n",
       "      <td>18.520000</td>\n",
       "      <td>1.000000</td>\n",
       "      <td>1.000000</td>\n",
       "      <td>1.000000</td>\n",
       "      <td>1.000000</td>\n",
       "      <td>1.000000</td>\n",
       "      <td>1.000000</td>\n",
       "      <td>1.000000</td>\n",
       "    </tr>\n",
       "  </tbody>\n",
       "</table>\n",
       "</div>"
      ],
      "text/plain": [
       "           dayofweek          month            day           hour  \\\n",
       "count  458084.000000  458084.000000  458084.000000  458084.000000   \n",
       "mean        2.643834       1.946062      15.986705      14.495713   \n",
       "std         1.894908       0.818332       8.523654       4.651603   \n",
       "min         0.000000       1.000000       1.000000       6.000000   \n",
       "25%         1.000000       1.000000       9.000000      11.000000   \n",
       "50%         3.000000       2.000000      16.000000      15.000000   \n",
       "75%         4.000000       3.000000      23.000000      18.000000   \n",
       "max         6.000000       4.000000      31.000000      24.000000   \n",
       "\n",
       "           rush_hour       progrnum   cum_duration           temp  \\\n",
       "count  458084.000000  458084.000000  458084.000000  458084.000000   \n",
       "mean        0.298179      29.500000    2437.552971       5.305503   \n",
       "std         0.457459      16.740687    1392.799037       2.880453   \n",
       "min         0.000000       1.000000       0.000000      -3.660000   \n",
       "25%         0.000000      15.000000    1348.000000       3.140000   \n",
       "50%         0.000000      29.500000    2530.000000       5.200000   \n",
       "75%         1.000000      44.000000    3481.000000       7.560000   \n",
       "max         1.000000      58.000000    7191.000000      12.390000   \n",
       "\n",
       "            pressure       humidity     wind_speed  weather_main_Clear  \\\n",
       "count  458084.000000  458084.000000  458084.000000       458084.000000   \n",
       "mean     1007.934331      80.642417       6.650330            0.004910   \n",
       "std        13.768472      11.955047       3.040267            0.069896   \n",
       "min       981.000000      34.000000       0.510000            0.000000   \n",
       "25%       996.000000      75.000000       4.120000            0.000000   \n",
       "50%      1007.000000      81.000000       6.170000            0.000000   \n",
       "75%      1019.000000      87.000000       8.750000            0.000000   \n",
       "max      1034.000000     100.000000      18.520000            1.000000   \n",
       "\n",
       "       weather_main_Clouds  weather_main_Drizzle  weather_main_Fog  \\\n",
       "count        458084.000000         458084.000000     458084.000000   \n",
       "mean              0.764089              0.064885          0.012947   \n",
       "std               0.424567              0.246324          0.113048   \n",
       "min               0.000000              0.000000          0.000000   \n",
       "25%               1.000000              0.000000          0.000000   \n",
       "50%               1.000000              0.000000          0.000000   \n",
       "75%               1.000000              0.000000          0.000000   \n",
       "max               1.000000              1.000000          1.000000   \n",
       "\n",
       "       weather_main_Mist  weather_main_Rain  weather_main_Snow  \n",
       "count      458084.000000      458084.000000      458084.000000  \n",
       "mean            0.007542           0.123399           0.022227  \n",
       "std             0.086518           0.328895           0.147422  \n",
       "min             0.000000           0.000000           0.000000  \n",
       "25%             0.000000           0.000000           0.000000  \n",
       "50%             0.000000           0.000000           0.000000  \n",
       "75%             0.000000           0.000000           0.000000  \n",
       "max             1.000000           1.000000           1.000000  "
      ]
     },
     "execution_count": 3,
     "metadata": {},
     "output_type": "execute_result"
    }
   ],
   "source": [
    "dataset.describe()"
   ]
  },
  {
   "cell_type": "code",
   "execution_count": 4,
   "metadata": {},
   "outputs": [],
   "source": [
    "# sample 10% to improve the speed\n",
    "dataset = dataset.sample(n=45808,replace = False, random_state=10)"
   ]
  },
  {
   "cell_type": "code",
   "execution_count": 5,
   "metadata": {},
   "outputs": [
    {
     "data": {
      "text/plain": [
       "(45808, 18)"
      ]
     },
     "execution_count": 5,
     "metadata": {},
     "output_type": "execute_result"
    }
   ],
   "source": [
    "dataset.shape"
   ]
  },
  {
   "cell_type": "code",
   "execution_count": 6,
   "metadata": {},
   "outputs": [],
   "source": [
    "train, test = train_test_split(dataset, test_size=0.3, random_state=33)"
   ]
  },
  {
   "cell_type": "code",
   "execution_count": 7,
   "metadata": {},
   "outputs": [],
   "source": [
    "x_train = train.drop(columns=['cum_duration'])\n",
    "y_train = train.cum_duration\n",
    "x_test = test.drop(columns=['cum_duration'])\n",
    "y_test = test.cum_duration"
   ]
  },
  {
   "cell_type": "code",
   "execution_count": 8,
   "metadata": {},
   "outputs": [
    {
     "data": {
      "text/plain": [
       "(32065, 17)"
      ]
     },
     "execution_count": 8,
     "metadata": {},
     "output_type": "execute_result"
    }
   ],
   "source": [
    "x_train.shape"
   ]
  },
  {
   "cell_type": "markdown",
   "metadata": {},
   "source": [
    "### Linear SVR Model"
   ]
  },
  {
   "cell_type": "code",
   "execution_count": 9,
   "metadata": {},
   "outputs": [
    {
     "name": "stdout",
     "output_type": "stream",
     "text": [
      "Trainning Set Score： 0.8054704087731251\n",
      "Testing Set Score： 0.8061745030599711\n",
      "Testing Set MSE： 376971.90171084\n",
      "Testing Set R^2： 0.8061745030599711\n",
      "The Runing Time： 0:00:06.804466\n"
     ]
    },
    {
     "name": "stderr",
     "output_type": "stream",
     "text": [
      "/Users/shuqian/anaconda3/lib/python3.7/site-packages/sklearn/svm/base.py:929: ConvergenceWarning: Liblinear failed to converge, increase the number of iterations.\n",
      "  \"the number of iterations.\", ConvergenceWarning)\n"
     ]
    }
   ],
   "source": [
    "start = datetime.datetime.now()\n",
    "\n",
    "clf_linear = LinearSVR(C=10)\n",
    "clf_linear.fit(x_train,y_train)\n",
    "y_pred_linear = clf_linear.predict(x_test)\n",
    "\n",
    "end = datetime.datetime.now()\n",
    "\n",
    "\n",
    "print(\"Trainning Set Score：\", clf_linear.score(x_train,y_train))\n",
    "print(\"Testing Set Score：\", clf_linear.score(x_test,y_test))\n",
    "print(\"Testing Set MSE：\",metrics.mean_squared_error(y_test,y_pred_linear.reshape(-1,1)))\n",
    "print(\"Testing Set R^2：\",metrics.r2_score(y_test,y_pred_linear.reshape(-1,1)))\n",
    "print(\"The Runing Time：\", end-start)"
   ]
  },
  {
   "cell_type": "markdown",
   "metadata": {},
   "source": [
    "### RBF SVR Model"
   ]
  },
  {
   "cell_type": "code",
   "execution_count": 12,
   "metadata": {},
   "outputs": [
    {
     "name": "stdout",
     "output_type": "stream",
     "text": [
      "Trainning Set Score： 0.47173494133034355\n",
      "Testing Set Score： 0.39265665587197895\n",
      "Testing Set MSE： 1181224.2405765664\n",
      "Testing Set R^2： 0.39265665587197895\n",
      "The Runing Time： 0:01:59.697475\n"
     ]
    }
   ],
   "source": [
    "start = datetime.datetime.now()\n",
    "\n",
    "clf_rbf = SVR(kernel='rbf',C=1e2,gamma=0.1)\n",
    "clf_rbf.fit(x_train,y_train)\n",
    "y_pred_rbf = clf_rbf.predict(x_test)\n",
    "\n",
    "end = datetime.datetime.now()\n",
    "\n",
    "print(\"Trainning Set Score：\", clf_rbf.score(x_train,y_train))\n",
    "print(\"Testing Set Score：\", clf_rbf.score(x_test,y_test))\n",
    "print(\"Testing Set MSE：\",metrics.mean_squared_error(y_test,y_pred_rbf.reshape(-1,1)))\n",
    "print(\"Testing Set R^2：\",metrics.r2_score(y_test,y_pred_rbf.reshape(-1,1)))\n",
    "print(\"The Runing Time：\", end-start)"
   ]
  },
  {
   "cell_type": "markdown",
   "metadata": {},
   "source": [
    "### Poly SVR Model"
   ]
  },
  {
   "cell_type": "code",
   "execution_count": null,
   "metadata": {},
   "outputs": [
    {
     "name": "stderr",
     "output_type": "stream",
     "text": [
      "/Users/shuqian/anaconda3/lib/python3.7/site-packages/sklearn/svm/base.py:193: FutureWarning: The default value of gamma will change from 'auto' to 'scale' in version 0.22 to account better for unscaled features. Set gamma explicitly to 'auto' or 'scale' to avoid this warning.\n",
      "  \"avoid this warning.\", FutureWarning)\n"
     ]
    }
   ],
   "source": [
    "start = datetime.datetime.now()\n",
    "\n",
    "clf_ploy = SVR(kernel='poly',C=1e2, gamma='scale',degree=5)\n",
    "clf_ploy.fit(x_train,y_train)\n",
    "y_pred_ploy = clf_ploy.predict(x_test)\n",
    "\n",
    "end = datetime.datetime.now()\n",
    "\n",
    "print(\"Trainning Set Score：\", clf_ploy.score(x_train,y_train))\n",
    "print(\"Testing Set Score：\", clf_ploy.score(x_test,y_test))\n",
    "print(\"Testing Set MSE：\",metrics.mean_squared_error(y_test,y_pred_ploy.reshape(-1,1)))\n",
    "print(\"Testing Set R^2：\",metrics.r2_score(y_test,y_pred_ploy.reshape(-1,1)))\n",
    "print(\"The Runing Time：\", end-start)"
   ]
  },
  {
   "cell_type": "code",
   "execution_count": null,
   "metadata": {},
   "outputs": [],
   "source": []
  }
 ],
 "metadata": {
  "kernelspec": {
   "display_name": "Python 3",
   "language": "python",
   "name": "python3"
  },
  "language_info": {
   "codemirror_mode": {
    "name": "ipython",
    "version": 3
   },
   "file_extension": ".py",
   "mimetype": "text/x-python",
   "name": "python",
   "nbconvert_exporter": "python",
   "pygments_lexer": "ipython3",
   "version": "3.7.3"
  }
 },
 "nbformat": 4,
 "nbformat_minor": 2
}
